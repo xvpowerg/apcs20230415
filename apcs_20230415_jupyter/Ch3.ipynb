{
 "cells": [
  {
   "cell_type": "code",
   "execution_count": 1,
   "id": "a9ec42f2",
   "metadata": {},
   "outputs": [
    {
     "name": "stdout",
     "output_type": "stream",
     "text": [
      "請輸入第幾筆車:2\n",
      "Toyota\n",
      "BMW\n",
      "Audi\n",
      "Ford\n",
      "Toyota\n",
      "Benz\n",
      "Mazda\n",
      "{'Audi': 1, 'Benz': 2, 'BMW': 3}\n"
     ]
    }
   ],
   "source": [
    "carList = ['Audi', 'Toyota', 'Benz', 'BMW', 'Mazda', 'Ford', 'BMW', 'Benz', 'BMW', 'Mazda']\n",
    "carSet  = {'Audi', 'Toyota', 'Benz', 'BMW', 'Mazda', 'Ford', 'BMW', 'Benz', 'BMW', 'Mazda'}\n",
    "\n",
    "# 輸入一個整數取得汽車品牌\n",
    "indx = int(input(\"請輸入第幾筆車:\"))\n",
    "print(carList[indx - 1])\n",
    "# 輸出所有汽車品牌\n",
    "for car in carSet:\n",
    "    print(car)\n",
    "# Audi / Benz / BMW 出現在carList次數\n",
    "LuxuryCar  = (\"Audi\", \"Benz\", \"BMW\")\n",
    "LuxuryCarDict = {\"Audi\":0,\"Benz\":0,\"BMW\":0}\n",
    "for car in carList:\n",
    "    if car in LuxuryCar:\n",
    "        LuxuryCarDict[car] += 1\n",
    "print(LuxuryCarDict)\n"
   ]
  },
  {
   "cell_type": "code",
   "execution_count": 2,
   "id": "76f49ebc",
   "metadata": {},
   "outputs": [
    {
     "name": "stdout",
     "output_type": "stream",
     "text": [
      "True\n",
      "True\n",
      "True\n",
      "False\n"
     ]
    }
   ],
   "source": [
    "ch1,ch2,ch3,ch4 = 75,60,55,40\n",
    "en1,en2,en3,en4 = 60,58,70,50\n",
    "print(ch1 >= 60 or en1 >= 60)\n",
    "print(ch2 >= 60 or en2 >= 60)\n",
    "print(ch3 >= 60 or en3 >= 60)\n",
    "print(ch4 >= 60 or en4 >= 60)\n"
   ]
  },
  {
   "cell_type": "code",
   "execution_count": 3,
   "id": "2bfa34db",
   "metadata": {},
   "outputs": [
    {
     "name": "stdout",
     "output_type": "stream",
     "text": [
      "False\n",
      "True\n",
      "True\n",
      "True\n",
      "False\n",
      "False\n"
     ]
    }
   ],
   "source": [
    "h1,h2,h3,h4 = 175,178,183,190\n",
    "w1,w2,w3,w4 = 95,85,75,65\n",
    "\n",
    "print(not h2 < 180)\n",
    "print(not h3 < 180)\n",
    "\n",
    "print(not (h1 < 180 and w1 < 80))\n",
    "print(not h2 < 180 or not w2 < 80)\n",
    "print(not (h3 > 180 or w3 < 80))\n",
    "print(not h4 > 180 and not w4 < 80)"
   ]
  },
  {
   "cell_type": "code",
   "execution_count": 4,
   "id": "c079107c",
   "metadata": {},
   "outputs": [
    {
     "name": "stdout",
     "output_type": "stream",
     "text": [
      "True\n",
      "False\n",
      "False\n",
      "True\n"
     ]
    }
   ],
   "source": [
    "b1,b2,b3,b4 = 100,90,100,90\n",
    "g1,g2,g3,g4 = 100,100,90,90\n",
    "\n",
    "print((b1 == 100) == (g1 == 100))\n",
    "print((b2 == 100) == (g2 == 100))\n",
    "print((b3 == 100) == (g3 == 100))\n",
    "print((b4 == 100) == (g4 == 100))\n"
   ]
  },
  {
   "cell_type": "code",
   "execution_count": 5,
   "id": "ea7da294",
   "metadata": {},
   "outputs": [
    {
     "name": "stdout",
     "output_type": "stream",
     "text": [
      "考試及格\n",
      "執行結束\n"
     ]
    }
   ],
   "source": [
    "score = 70\n",
    "\n",
    "if score >= 60:\n",
    "    print(\"考試及格\")\n",
    "print(\"執行結束\")    \n"
   ]
  },
  {
   "cell_type": "code",
   "execution_count": 6,
   "id": "231b5f8d",
   "metadata": {},
   "outputs": [
    {
     "name": "stdout",
     "output_type": "stream",
     "text": [
      "考試不及格\n",
      "執行結束\n"
     ]
    }
   ],
   "source": [
    "score = 50\n",
    "\n",
    "if score >= 60:\n",
    "    print(\"考試及格\")\n",
    "else:\n",
    "    print(\"考試不及格\")\n",
    "    \n",
    "print(\"執行結束\")\n"
   ]
  },
  {
   "cell_type": "code",
   "execution_count": 7,
   "id": "7a80e008",
   "metadata": {},
   "outputs": [
    {
     "name": "stdout",
     "output_type": "stream",
     "text": [
      "及格\n",
      "完成\n"
     ]
    }
   ],
   "source": [
    "score = 65\n",
    "\n",
    "if score >= 60:\n",
    "    print(\"及格\")\n",
    "elif score >= 40:\n",
    "    print(\"補考\")\n",
    "else:\n",
    "    print(\"不及格\")\n",
    "    \n",
    "print(\"完成\")\n"
   ]
  },
  {
   "cell_type": "code",
   "execution_count": 8,
   "id": "158e9d72",
   "metadata": {},
   "outputs": [
    {
     "name": "stdout",
     "output_type": "stream",
     "text": [
      "考試及格\n",
      "上台頒獎\n",
      "分數: 95\n"
     ]
    }
   ],
   "source": [
    "score = 95\n",
    "\n",
    "if score >= 60:\n",
    "    print(\"考試及格\")\n",
    "    if score >= 90:\n",
    "        print(\"上台頒獎\")\n",
    "else:    \n",
    "    print(\"考試不及格\")\n",
    "    if score >= 40:\n",
    "        print(\"需要補考\")\n",
    "    else:\n",
    "        print(\"明年重修\")\n",
    "print(\"分數:\",score)        \n"
   ]
  },
  {
   "cell_type": "code",
   "execution_count": 9,
   "id": "28cc5fc5",
   "metadata": {},
   "outputs": [
    {
     "name": "stdout",
     "output_type": "stream",
     "text": [
      "輸入成績45\n",
      "補考\n"
     ]
    }
   ],
   "source": [
    "score = int(input(\"輸入成績\"))\n",
    "\n",
    "if 40 <= score < 60  :\n",
    "    print(\"補考\")\n",
    "else:\n",
    "    print(\"不須補考\")\n"
   ]
  },
  {
   "cell_type": "code",
   "execution_count": 10,
   "id": "8766a2d7",
   "metadata": {},
   "outputs": [
    {
     "name": "stdout",
     "output_type": "stream",
     "text": [
      "請輸入整數50\n",
      "是2倍數\n"
     ]
    }
   ],
   "source": [
    "num = int(input(\"請輸入整數\"))\n",
    "if num % 2 == 0 and  num % 3 == 0:\n",
    "    print(\"是2倍數也是3的倍數\")\n",
    "elif num % 2 == 0:\n",
    "    print(\"是2倍數\")\n",
    "elif num % 3 == 0:\n",
    "    print(\"是3倍數\")\n",
    "else:\n",
    "    print(\"不是2倍數也不是3的倍數\")\n",
    "    "
   ]
  },
  {
   "cell_type": "code",
   "execution_count": 11,
   "id": "a724d580",
   "metadata": {},
   "outputs": [
    {
     "name": "stdout",
     "output_type": "stream",
     "text": [
      "請輸入身高，單位為公分: 178\n",
      "請輸入體重，單位為公斤: 70\n",
      "bmi: 22.09, 判定結果: 正常\n"
     ]
    }
   ],
   "source": [
    "height = float(input('請輸入身高，單位為公分: '))\n",
    "weight = int(input('請輸入體重，單位為公斤: '))\n",
    "bmi = weight/((height/100)**2)\n",
    "print(\"bmi: %.2f, 判定結果: \" %(bmi), end='')\n",
    "\n",
    "if bmi > 30:\n",
    "    print(\"胖胖\")\n",
    "elif bmi > 25:\n",
    "    print(\"重重\")\n",
    "elif bmi > 18.5:\n",
    "    print(\"正常\")\n",
    "elif bmi > 0:\n",
    "    print(\"過輕\")\n",
    "else:\n",
    "    print(\"數值錯誤\")\n",
    "\n"
   ]
  },
  {
   "cell_type": "code",
   "execution_count": 12,
   "id": "b98ffd00",
   "metadata": {},
   "outputs": [
    {
     "name": "stdout",
     "output_type": "stream",
     "text": [
      "range(0, 10)\n",
      "[0, 1, 2, 3, 4, 5, 6, 7, 8, 9]\n"
     ]
    }
   ],
   "source": [
    "a = range(10)\n",
    "print(a)\n",
    "print(list(a))\n"
   ]
  },
  {
   "cell_type": "code",
   "execution_count": 13,
   "id": "15f0182b",
   "metadata": {},
   "outputs": [
    {
     "name": "stdout",
     "output_type": "stream",
     "text": [
      "range(2, 6)\n",
      "[2, 3, 4, 5]\n"
     ]
    }
   ],
   "source": [
    "a = range(2,6)\n",
    "print(a)\n",
    "print(list(a))\n"
   ]
  },
  {
   "cell_type": "code",
   "execution_count": 14,
   "id": "70939a56",
   "metadata": {},
   "outputs": [
    {
     "name": "stdout",
     "output_type": "stream",
     "text": [
      "[0, 2, 4]\n",
      "[6, 4, 2]\n"
     ]
    }
   ],
   "source": [
    "a = range(0,6,2)\n",
    "print(list(a))\n",
    "\n",
    "b = range(6,0,-2)\n",
    "print(list(b))"
   ]
  },
  {
   "cell_type": "code",
   "execution_count": 15,
   "id": "f9a4ba35",
   "metadata": {},
   "outputs": [
    {
     "name": "stdout",
     "output_type": "stream",
     "text": [
      "Hello 0\n",
      "Hello 1\n",
      "Hello 2\n",
      "Hello 3\n",
      "Hello 4\n",
      "[0, 1, 2, 3, 4]\n",
      "Hello 0\n",
      "Hello 1\n",
      "Hello 2\n",
      "Hello 3\n",
      "Hello 4\n",
      "=========================\n",
      "Hello 0\n",
      "Hello 1\n",
      "Hello 2\n",
      "Hello 3\n",
      "Hello 4\n"
     ]
    }
   ],
   "source": [
    "for i in range(5):    \n",
    "    print(\"Hello\",i)\n",
    "    \n",
    "ran = range(5)\n",
    "print(list(ran))\n",
    "for i in ran:    \n",
    "    print(\"Hello\",i)\n",
    "print(\"=========================\")\n",
    "for i in ran:    \n",
    "    print(\"Hello\",i)\n"
   ]
  },
  {
   "cell_type": "code",
   "execution_count": 16,
   "id": "f5dd7be5",
   "metadata": {},
   "outputs": [
    {
     "name": "stdout",
     "output_type": "stream",
     "text": [
      "Hello 5\n",
      "Hello 6\n",
      "Hello 7\n",
      "Hello 8\n",
      "Hello 9\n",
      "i: 9\n",
      "Hello 10\n",
      "Hello 8\n",
      "Hello 6\n",
      "Hello 4\n",
      "Hello 2\n",
      "i: 2\n"
     ]
    }
   ],
   "source": [
    "for i in range(5,10):\n",
    "    print(\"Hello\",i)\n",
    "print(\"i:\",i)\n",
    "\n",
    "for i in range(10,0,-2):\n",
    "    print(\"Hello\",i)\n",
    "print(\"i:\",i)    "
   ]
  },
  {
   "cell_type": "code",
   "execution_count": 17,
   "id": "16924536",
   "metadata": {},
   "outputs": [
    {
     "name": "stdout",
     "output_type": "stream",
     "text": [
      "H\n",
      "e\n",
      "l\n",
      "l\n",
      "o\n",
      "==================\n",
      "Apple\n",
      "Banana\n",
      "Cherry\n",
      "==================\n"
     ]
    }
   ],
   "source": [
    "word = \"Hello\"\n",
    "for c in word:\n",
    "    print(c)\n",
    "print(\"==================\")\n",
    "fruits = [\"Apple\",\"Banana\",\"Cherry\"]\n",
    "for f in fruits:\n",
    "    print(f)\n",
    "print(\"==================\")\n"
   ]
  },
  {
   "cell_type": "code",
   "execution_count": 18,
   "id": "6aa2a7e7",
   "metadata": {},
   "outputs": [
    {
     "name": "stdout",
     "output_type": "stream",
     "text": [
      "5 7\n"
     ]
    }
   ],
   "source": [
    "point = (5,7)\n",
    "x,y = point\n",
    "print(x,y)\n"
   ]
  },
  {
   "cell_type": "code",
   "execution_count": 1,
   "id": "80e8a1d6",
   "metadata": {},
   "outputs": [
    {
     "name": "stdout",
     "output_type": "stream",
     "text": [
      "1 2\n",
      "2 3\n",
      "3 4\n"
     ]
    }
   ],
   "source": [
    "listOfTuple = [(1,2),(2,3),(3,4)]\n",
    "for x,y in listOfTuple:\n",
    "    print(x,y)"
   ]
  },
  {
   "cell_type": "code",
   "execution_count": 2,
   "id": "69a1443f",
   "metadata": {},
   "outputs": [
    {
     "name": "stdout",
     "output_type": "stream",
     "text": [
      "國語 100\n",
      "數學 80\n",
      "英文 95\n",
      "[('國語', 100), ('數學', 80), ('英文', 95)]\n",
      "國語 100\n",
      "數學 80\n",
      "英文 95\n",
      "======================\n",
      "國語 100\n",
      "數學 80\n",
      "英文 95\n",
      "======================\n",
      "國語 100\n",
      "數學 80\n",
      "英文 95\n"
     ]
    }
   ],
   "source": [
    "subjs = ['國語','數學','英文']\n",
    "scores = [100,80,95]\n",
    "\n",
    "for i in range(len(subjs)):\n",
    "    print(subjs[i],scores[i])\n",
    "\n",
    "print(list(zip(subjs,scores)))\n",
    "\n",
    "for n,s in zip(subjs,scores):\n",
    "    print(n,s)\n",
    "\n",
    "\n",
    "print(\"======================\")\n",
    "# 使用過一次不能再用\n",
    "myZip = zip(subjs,scores)\n",
    "\n",
    "#print(list(myZip))\n",
    "\n",
    "for n,s in myZip:\n",
    "    print(n,s)\n",
    "print(\"======================\")\n",
    "for n,s in zip(subjs,scores):\n",
    "    print(n,s)    "
   ]
  },
  {
   "attachments": {
    "image.png": {
     "image/png": "[encoded data removed]"
    }
   },
   "cell_type": "markdown",
   "id": "19fbcaa9",
   "metadata": {},
   "source": [
    "![image.png](attachment:image.png)"
   ]
  },
  {
   "cell_type": "code",
   "execution_count": 3,
   "id": "20bd5831",
   "metadata": {},
   "outputs": [
    {
     "name": "stdout",
     "output_type": "stream",
     "text": [
      "*\n",
      "**\n",
      "***\n",
      "****\n",
      "*****\n"
     ]
    }
   ],
   "source": [
    "for i in range(5):\n",
    " for k in range(i+1):\n",
    "     print(\"*\",end=\"\")\n",
    " print()    \n"
   ]
  },
  {
   "cell_type": "code",
   "execution_count": 4,
   "id": "c592d959",
   "metadata": {},
   "outputs": [
    {
     "name": "stdout",
     "output_type": "stream",
     "text": [
      "猜數字2\n",
      "不對再猜一次3\n",
      "不對再猜一次4\n",
      "不對再猜一次5\n",
      "猜對了!\n"
     ]
    }
   ],
   "source": [
    "answer = 5\n",
    "guess = int(input(\"猜數字\"))\n",
    "\n",
    "while guess != answer:\n",
    "    guess = int(input(\"不對再猜一次\"))\n",
    "    \n",
    "print(\"猜對了!\")\n"
   ]
  },
  {
   "attachments": {
    "image.png": {
     "image/png": "[encoded data removed]"
    }
   },
   "cell_type": "markdown",
   "id": "341457a3",
   "metadata": {},
   "source": [
    "![image.png](attachment:image.png)"
   ]
  },
  {
   "cell_type": "code",
   "execution_count": 5,
   "id": "9499023b",
   "metadata": {},
   "outputs": [
    {
     "name": "stdout",
     "output_type": "stream",
     "text": [
      "猜一個數字3\n",
      "再猜一次4\n",
      "再猜一次5\n",
      "猜對了\n",
      "遊戲結束\n"
     ]
    }
   ],
   "source": [
    "count = 1\n",
    "answer = 5\n",
    "guess = int(input(\"猜一個數字\"))\n",
    "\n",
    "while count < 5:\n",
    "    if guess == answer:\n",
    "        print(\"猜對了\")\n",
    "        break        \n",
    "    count += 1\n",
    "    guess = int(input(\"再猜一次\"))\n",
    "print(\"遊戲結束\")    \n"
   ]
  },
  {
   "cell_type": "code",
   "execution_count": 6,
   "id": "212a0e51",
   "metadata": {},
   "outputs": [
    {
     "name": "stdout",
     "output_type": "stream",
     "text": [
      "投票給:David\n",
      "投票給:Amy\n",
      "投票給:David\n",
      "投票給:Lucy\n",
      "票無效\n",
      "投票給:Sean\n",
      "選舉結果:\n",
      "David 2\n",
      "Amy 1\n",
      "Sean 1\n"
     ]
    }
   ],
   "source": [
    "results = {\"David\":0,\"Amy\":0,\"Sean\":0}\n",
    "users = (\"David\",\"Amy\",\"Sean\")\n",
    "\n",
    "for i in range(5):\n",
    "    vote = input(\"投票給:\")\n",
    "    if  vote  not in users:\n",
    "        print(\"票無效\")\n",
    "        continue\n",
    "    results[vote] += 1\n",
    "\n",
    "print(\"選舉結果:\")\n",
    "for name in users:    \n",
    "    print(name,results[name])"
   ]
  },
  {
   "cell_type": "code",
   "execution_count": 7,
   "id": "a1ba0033",
   "metadata": {},
   "outputs": [
    {
     "name": "stdout",
     "output_type": "stream",
     "text": [
      "輸入整數:11\n",
      "是質數\n"
     ]
    }
   ],
   "source": [
    "num = int(input(\"輸入整數:\"))\n",
    "isPrimeNum = True\n",
    "\n",
    "for i in range(2,num):\n",
    "    if num % i == 0:\n",
    "        isPrimeNum = False\n",
    "        break\n",
    "    \n",
    "if isPrimeNum:\n",
    "    print(\"是質數\")\n",
    "else:\n",
    "    print(\"不是質數\")"
   ]
  },
  {
   "cell_type": "code",
   "execution_count": 8,
   "id": "1ec4e560",
   "metadata": {},
   "outputs": [
    {
     "name": "stdout",
     "output_type": "stream",
     "text": [
      "輸入整數:108\n",
      "1 2 3 4 6 9 12 18 27 36 54 108 "
     ]
    }
   ],
   "source": [
    "num = int(input(\"輸入整數:\"))\n",
    "\n",
    "for i in range(1,num+1):\n",
    "    if num % i != 0:\n",
    "        continue\n",
    "    print(i,end=\" \")\n"
   ]
  },
  {
   "cell_type": "code",
   "execution_count": 10,
   "id": "93020d3c",
   "metadata": {},
   "outputs": [
    {
     "name": "stdout",
     "output_type": "stream",
     "text": [
      "猜一個數字2\n",
      "猜一個數字3\n",
      "猜一個數字4\n",
      "猜一個數字6\n",
      "猜一個數字7\n",
      "答案是: 5\n"
     ]
    }
   ],
   "source": [
    "answer = 5\n",
    "\n",
    "for i in range(5):\n",
    "    guess = int(input(\"猜一個數字\"))\n",
    "    if guess == answer:\n",
    "        print(\"猜對了\")\n",
    "        break\n",
    "else:\n",
    "    print(\"答案是:\",answer)\n"
   ]
  },
  {
   "cell_type": "code",
   "execution_count": 9,
   "id": "01a80037",
   "metadata": {},
   "outputs": [
    {
     "name": "stdout",
     "output_type": "stream",
     "text": [
      "輸入整數11\n",
      "是質數\n"
     ]
    }
   ],
   "source": [
    "num = int(input(\"輸入整數\"))\n",
    "\n",
    "for i in range(2,num):\n",
    "    if num % i == 0:\n",
    "        print(\"不是質數\")\n",
    "        break\n",
    "else:\n",
    "    print(\"是質數\")"
   ]
  },
  {
   "cell_type": "code",
   "execution_count": 11,
   "id": "d85fe892",
   "metadata": {},
   "outputs": [
    {
     "name": "stdout",
     "output_type": "stream",
     "text": [
      "呼叫前\n",
      "Hello!!\n",
      "Ken!!\n",
      "Good Bye\n",
      "呼叫後\n"
     ]
    }
   ],
   "source": [
    "\n",
    "def greet():\n",
    "    print(\"Hello!!\")\n",
    "    print(\"Ken!!\")\n",
    "    print(\"Good Bye\")\n",
    "\n",
    "print(\"呼叫前\")\n",
    "greet()\n",
    "print(\"呼叫後\")\n",
    "\n"
   ]
  },
  {
   "cell_type": "code",
   "execution_count": 12,
   "id": "a5b46a2c",
   "metadata": {},
   "outputs": [
    {
     "name": "stdout",
     "output_type": "stream",
     "text": [
      "25\n",
      "25\n"
     ]
    }
   ],
   "source": [
    "def print_sum(a,b):\n",
    "    c = a + b\n",
    "    print(c)\n",
    "    return c\n",
    "\n",
    "ans = print_sum(10,15)\n",
    "print(ans)\n",
    "    \n"
   ]
  },
  {
   "cell_type": "code",
   "execution_count": 13,
   "id": "635ae111",
   "metadata": {},
   "outputs": [
    {
     "name": "stdout",
     "output_type": "stream",
     "text": [
      "6\n"
     ]
    },
    {
     "ename": "TypeError",
     "evalue": "get_sum() missing 1 required positional argument: 'c'",
     "output_type": "error",
     "traceback": [
      "\u001b[1;31m---------------------------------------------------------------------------\u001b[0m",
      "\u001b[1;31mTypeError\u001b[0m                                 Traceback (most recent call last)",
      "Cell \u001b[1;32mIn[13], line 9\u001b[0m\n\u001b[0;32m      6\u001b[0m     \u001b[38;5;28;01mreturn\u001b[39;00m a \u001b[38;5;241m+\u001b[39m b \u001b[38;5;241m+\u001b[39m c\n\u001b[0;32m      8\u001b[0m \u001b[38;5;28mprint\u001b[39m(get_sum(\u001b[38;5;241m1\u001b[39m,\u001b[38;5;241m2\u001b[39m,\u001b[38;5;241m3\u001b[39m))\n\u001b[1;32m----> 9\u001b[0m \u001b[38;5;28mprint\u001b[39m(\u001b[43mget_sum\u001b[49m\u001b[43m(\u001b[49m\u001b[38;5;241;43m4\u001b[39;49m\u001b[43m,\u001b[49m\u001b[38;5;241;43m5\u001b[39;49m\u001b[43m)\u001b[49m)\n",
      "\u001b[1;31mTypeError\u001b[0m: get_sum() missing 1 required positional argument: 'c'"
     ]
    }
   ],
   "source": [
    "\n",
    "def get_sum(a,b):\n",
    "    return a + b\n",
    "\n",
    "#get_sum(a,b,c) 會覆蓋get_sum(a,b)\n",
    "def get_sum(a,b,c):\n",
    "    return a + b + c\n",
    "\n",
    "print(get_sum(1,2,3))\n",
    "print(get_sum(4,5))\n",
    "\n"
   ]
  },
  {
   "cell_type": "code",
   "execution_count": 14,
   "id": "930cdefb",
   "metadata": {},
   "outputs": [
    {
     "name": "stdout",
     "output_type": "stream",
     "text": [
      "輸入攝氏溫度(q離開):28\n",
      "華氏溫度:82.40\n",
      "輸入攝氏溫度(q離開):36\n",
      "華氏溫度:96.80\n",
      "輸入攝氏溫度(q離開):q\n",
      "離開\n"
     ]
    }
   ],
   "source": [
    "def c2f(c):    \n",
    "    return 9 / 5 * c + 32    \n",
    "\n",
    "while(True):\n",
    "    inStr = input(\"輸入攝氏溫度(q離開):\")\n",
    "    if inStr == 'q':\n",
    "        print(\"離開\")        \n",
    "        break\n",
    "\n",
    "    tc = float(inStr)\n",
    "    \n",
    "    print(f\"華氏溫度:{c2f(tc):.2f}\")"
   ]
  },
  {
   "cell_type": "code",
   "execution_count": 15,
   "id": "a88040bf",
   "metadata": {},
   "outputs": [
    {
     "name": "stdout",
     "output_type": "stream",
     "text": [
      "6\n",
      "8\n",
      "9\n"
     ]
    },
    {
     "ename": "TypeError",
     "evalue": "get_sum() missing 1 required positional argument: 'a'",
     "output_type": "error",
     "traceback": [
      "\u001b[1;31m---------------------------------------------------------------------------\u001b[0m",
      "\u001b[1;31mTypeError\u001b[0m                                 Traceback (most recent call last)",
      "Cell \u001b[1;32mIn[15], line 9\u001b[0m\n\u001b[0;32m      7\u001b[0m x \u001b[38;5;241m=\u001b[39m get_sum(\u001b[38;5;241m1\u001b[39m)\n\u001b[0;32m      8\u001b[0m \u001b[38;5;28mprint\u001b[39m(x)\n\u001b[1;32m----> 9\u001b[0m x \u001b[38;5;241m=\u001b[39m \u001b[43mget_sum\u001b[49m\u001b[43m(\u001b[49m\u001b[43m)\u001b[49m\n",
      "\u001b[1;31mTypeError\u001b[0m: get_sum() missing 1 required positional argument: 'a'"
     ]
    }
   ],
   "source": [
    "def get_sum(a,b=3,c=5):\n",
    "    return a + b + c\n",
    "x = get_sum(1,2,3)\n",
    "print(x)\n",
    "x = get_sum(1,2)\n",
    "print(x)\n",
    "x = get_sum(1)\n",
    "print(x)\n",
    "x = get_sum()\n"
   ]
  },
  {
   "cell_type": "code",
   "execution_count": null,
   "id": "5524dcce",
   "metadata": {},
   "outputs": [],
   "source": []
  }
 ],
 "metadata": {
  "kernelspec": {
   "display_name": "Python 3 (ipykernel)",
   "language": "python",
   "name": "python3"
  },
  "language_info": {
   "codemirror_mode": {
    "name": "ipython",
    "version": 3
   },
   "file_extension": ".py",
   "mimetype": "text/x-python",
   "name": "python",
   "nbconvert_exporter": "python",
   "pygments_lexer": "ipython3",
   "version": "3.8.16"
  }
 },
 "nbformat": 4,
 "nbformat_minor": 5
}
