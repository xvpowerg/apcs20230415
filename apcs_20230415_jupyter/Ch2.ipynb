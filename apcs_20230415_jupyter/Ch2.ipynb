{
 "cells": [
  {
   "cell_type": "code",
   "execution_count": 1,
   "id": "c0376b97",
   "metadata": {},
   "outputs": [
    {
     "name": "stdout",
     "output_type": "stream",
     "text": [
      "國文成績:70\n",
      "數學成績:80\n",
      "英文成績:90\n",
      "總成績: 240\n",
      "平均成績: 80.0\n"
     ]
    }
   ],
   "source": [
    "ch = int(input(\"國文成績:\"))\n",
    "ma = int(input(\"數學成績:\"))\n",
    "en = int(input(\"英文成績:\"))\n",
    "\n",
    "total = ch + ma + en\n",
    "print(\"總成績:\",total)\n",
    "print(\"平均成績:\",total/3)"
   ]
  },
  {
   "cell_type": "code",
   "execution_count": 2,
   "id": "966040be",
   "metadata": {},
   "outputs": [
    {
     "name": "stdout",
     "output_type": "stream",
     "text": [
      "輸入攝氏溫度32\n",
      "攝氏: 32 度等於華氏: 89.6 度\n"
     ]
    }
   ],
   "source": [
    "tc = int(input(\"輸入攝氏溫度\"))\n",
    "tf = 9 / 5 * tc + 32\n",
    "print(\"攝氏:\",tc,\"度等於華氏:\",tf,\"度\")"
   ]
  },
  {
   "cell_type": "code",
   "execution_count": 3,
   "id": "1f90926c",
   "metadata": {},
   "outputs": [
    {
     "name": "stdout",
     "output_type": "stream",
     "text": [
      "輸入身高 單位公分:180\n",
      "請輸入體重 單位公斤:75\n",
      "bmi為: 23.148148148148145\n",
      "bmi為:23.15\n",
      "bmi為:23.15\n",
      "bmi為:23.15\n"
     ]
    }
   ],
   "source": [
    "height = float( input(\"輸入身高 單位公分:\"))\n",
    "weight = int(input(\"請輸入體重 單位公斤:\"))\n",
    "bmi = weight /  (height/100) ** 2\n",
    "print(\"bmi為:\",bmi)\n",
    "\n",
    "print(\"bmi為:%.2f\"%(bmi))\n",
    "print(f\"bmi為:{bmi:.2f}\")\n",
    "rBmi = round(bmi, 2)\n",
    "print(f\"bmi為:{rBmi}\")\n"
   ]
  },
  {
   "cell_type": "code",
   "execution_count": 4,
   "id": "ac967eb2",
   "metadata": {},
   "outputs": [
    {
     "name": "stdout",
     "output_type": "stream",
     "text": [
      "小明今年12歲\n",
      "小明今年12歲\n",
      "小明今年12歲\n"
     ]
    }
   ],
   "source": [
    "name = \"小明\"\n",
    "age = 12\n",
    "#小明今年12歲\n",
    "print(name,\"今年\",age,\"歲\",sep =\"\")\n",
    "print(\"%s今年%d歲\"%(name,age))\n",
    "print(f\"{name}今年{age}歲\")\n"
   ]
  },
  {
   "cell_type": "code",
   "execution_count": 5,
   "id": "c5b58465",
   "metadata": {},
   "outputs": [
    {
     "name": "stdout",
     "output_type": "stream",
     "text": [
      "國文成績:70\n",
      "數學成績:82\n",
      "英文成績:90\n",
      "總成績: 242\n",
      "平均分數:80.67\n",
      "平均分數:80.67\n"
     ]
    }
   ],
   "source": [
    "ch = int(input(\"國文成績:\"))\n",
    "ma = int(input(\"數學成績:\"))\n",
    "en = int(input(\"英文成績:\"))\n",
    "\n",
    "total = ch + ma + en\n",
    "print(\"總成績:\",total)\n",
    "print('平均分數:%.2f'%(total/3))\n",
    "print(f'平均分數:{total/3:.2f}')\n"
   ]
  },
  {
   "cell_type": "code",
   "execution_count": 6,
   "id": "cfb8b869",
   "metadata": {},
   "outputs": [
    {
     "name": "stdout",
     "output_type": "stream",
     "text": [
      "<class 'int'>\n",
      "<class 'float'>\n",
      "<class 'bool'>\n",
      "<class 'str'>\n"
     ]
    }
   ],
   "source": [
    "var1 = 123\n",
    "print(type(var1))\n",
    "var2 = 3.14\n",
    "print(type(var2))\n",
    "var3 = True\n",
    "print(type(var3))\n",
    "var4 = 'Hello'\n",
    "print(type(var4))\n"
   ]
  },
  {
   "cell_type": "code",
   "execution_count": 7,
   "id": "d0d1b09a",
   "metadata": {},
   "outputs": [
    {
     "name": "stdout",
     "output_type": "stream",
     "text": [
      "140709456984800\n",
      "140709456984800\n",
      "2159355272368\n",
      "2159355728752\n"
     ]
    }
   ],
   "source": [
    "x = 123\n",
    "print(id(x))\n",
    "y = 123\n",
    "print(id(y))\n",
    "x = 456\n",
    "print(id(x))\n",
    "x = \"Hello\"\n",
    "print(id(x))\n"
   ]
  },
  {
   "cell_type": "code",
   "execution_count": 8,
   "id": "8b727e8b",
   "metadata": {},
   "outputs": [
    {
     "name": "stdout",
     "output_type": "stream",
     "text": [
      "10\n",
      "<class 'int'>\n",
      "15.5\n",
      "<class 'float'>\n"
     ]
    }
   ],
   "source": [
    "x = 10\n",
    "print(x)\n",
    "print(type(x))\n",
    "x = x + 5.5\n",
    "print(x)\n",
    "print(type(x))\n"
   ]
  },
  {
   "cell_type": "code",
   "execution_count": 9,
   "id": "203dcb55",
   "metadata": {},
   "outputs": [
    {
     "name": "stdout",
     "output_type": "stream",
     "text": [
      "10.5\n",
      "<class 'float'>\n",
      "15\n",
      "<class 'int'>\n",
      "20.0\n",
      "<class 'float'>\n"
     ]
    }
   ],
   "source": [
    "x = 10.5\n",
    "print(x)\n",
    "print(type(x))\n",
    "y = int(x) + 5\n",
    "print(y)\n",
    "print(type(y))\n",
    "z = float(y) + 5\n",
    "print(z)\n",
    "print(type(z))\n",
    "\n"
   ]
  },
  {
   "cell_type": "code",
   "execution_count": 10,
   "id": "6d65651a",
   "metadata": {},
   "outputs": [
    {
     "name": "stdout",
     "output_type": "stream",
     "text": [
      "5 True\n",
      "0 False\n",
      "1.5 True\n",
      "0.0 False\n",
      "2 True\n",
      "-1 True\n",
      "Hi True\n",
      " False\n",
      "[1, 2, 3] True\n",
      "[] False\n",
      "[1, 2, 3] True\n",
      "None False\n"
     ]
    }
   ],
   "source": [
    "x,y = 5,0\n",
    "print(x,bool(x))\n",
    "print(y,bool(y))\n",
    "\n",
    "x,y = 1.5,0.0\n",
    "print(x,bool(x))\n",
    "print(y,bool(y))\n",
    "\n",
    "x,y = 2,-1\n",
    "print(x,bool(x))\n",
    "print(y,bool(y))\n",
    "\n",
    "x,y = \"Hi\",\"\"\n",
    "print(x,bool(x))\n",
    "print(y,bool(y))\n",
    "x = [1,2,3]\n",
    "y = []\n",
    "print(x,bool(x))\n",
    "print(y,bool(y))\n",
    "\n",
    "x = [1,2,3]\n",
    "y = None\n",
    "print(x,bool(x))\n",
    "print(y,bool(y))\n",
    "\n"
   ]
  },
  {
   "cell_type": "code",
   "execution_count": 12,
   "id": "e54e4f0f",
   "metadata": {},
   "outputs": [
    {
     "name": "stdout",
     "output_type": "stream",
     "text": [
      "This is May's car!\n",
      "This is May's car!\n",
      "{\"name\":\"Ken\",\"age\":18 }\n",
      "<!DOCTYPE html>\n",
      "<html lang=\"en\" >\n",
      "  <head>\n",
      "    <meta charset=\"UTF-8\" />\n",
      "    <link rel=\"icon\" type=\"image/svg+xml\" href=\"/vite.svg\" />\n",
      "    <meta name=\"viewport\" content=\"width=device-width, initial-scale=1.0\" />\n",
      "    <title>圖片管理系統</title>\n",
      "  </head>\n",
      "  <body>\n",
      "    <div id=\"app\"></div>\n",
      "    <script type=\"module\" src=\"/src/main.js\"></script>\n",
      "  </body>\n",
      "</html>\n",
      "C:\\python\\nscript\n",
      "C:\\python\\nscript\n",
      "<class 'str'>\n",
      "C:\\cpp\\DevCppPortable\n"
     ]
    }
   ],
   "source": [
    "import os\n",
    "str1 = 'This is May\\'s car!'\n",
    "print(str1)\n",
    " # 如果字串內容有單引號 那就雙引號包起來\n",
    "str1 = \"This is May's car!\"\n",
    "print(str1)\n",
    "json1 = '{\"name\":\"Ken\",\"age\":18 }'\n",
    "print(json1)\n",
    "\n",
    "html ='''<!DOCTYPE html>\n",
    "<html lang=\"en\" >\n",
    "  <head>\n",
    "    <meta charset=\"UTF-8\" />\n",
    "    <link rel=\"icon\" type=\"image/svg+xml\" href=\"/vite.svg\" />\n",
    "    <meta name=\"viewport\" content=\"width=device-width, initial-scale=1.0\" />\n",
    "    <title>圖片管理系統</title>\n",
    "  </head>\n",
    "  <body>\n",
    "    <div id=\"app\"></div>\n",
    "    <script type=\"module\" src=\"/src/main.js\"></script>\n",
    "  </body>\n",
    "</html>'''\n",
    "print(html)\n",
    "\n",
    "path = \"C:\\\\python\\\\nscript\"\n",
    "path2 = r\"C:\\python\\nscript\"\n",
    "print(path)\n",
    "print(path2)\n",
    "p = os.path.join(\"C:\\\\\",\"cpp\",\"DevCppPortable\")\n",
    "print(type(p))\n",
    "print(p)\n",
    "\n"
   ]
  },
  {
   "cell_type": "code",
   "execution_count": 13,
   "id": "9ff745f1",
   "metadata": {},
   "outputs": [
    {
     "name": "stdout",
     "output_type": "stream",
     "text": [
      "Hello World\n",
      "l\n",
      "l\n",
      "llo World\n",
      "Hel\n",
      "ell\n",
      "orl\n",
      "dlroW olleH\n",
      "HloWrd\n",
      "HlWl\n"
     ]
    }
   ],
   "source": [
    "mystring1 = \"Hello World\"\n",
    "print(mystring1)\n",
    "print(mystring1[2])\n",
    "print(mystring1[-2])\n",
    "print(mystring1[2:])\n",
    "\n",
    "print(mystring1[:3])\n",
    "print(mystring1[1:4])\n",
    "print(mystring1[-4:-1])\n",
    "print(mystring1[::-1])\n",
    "print(mystring1[::2])\n",
    "print(mystring1[::3])"
   ]
  },
  {
   "cell_type": "code",
   "execution_count": 14,
   "id": "25346f81",
   "metadata": {},
   "outputs": [
    {
     "name": "stdout",
     "output_type": "stream",
     "text": [
      "輸入字串:ABA\n",
      "是迴文\n"
     ]
    }
   ],
   "source": [
    "inStr = input(\"輸入字串:\")\n",
    "reStr = inStr[::-1]\n",
    "\n",
    "if inStr == reStr:\n",
    "    print(\"是迴文\")\n",
    "else:\n",
    "    print(\"不是迴文\")"
   ]
  },
  {
   "cell_type": "code",
   "execution_count": 15,
   "id": "6eb8252f",
   "metadata": {},
   "outputs": [
    {
     "name": "stdout",
     "output_type": "stream",
     "text": [
      "身份證字號:A123456789\n",
      "先生\n"
     ]
    }
   ],
   "source": [
    "pid = input(\"身份證字號:\")\n",
    "gender = int(pid[1])\n",
    "\n",
    "if gender == 1:\n",
    "    print(\"先生\")\n",
    "else:\n",
    "    print(\"小姐\")\n"
   ]
  },
  {
   "cell_type": "code",
   "execution_count": 16,
   "id": "a0969e11",
   "metadata": {},
   "outputs": [
    {
     "name": "stdout",
     "output_type": "stream",
     "text": [
      "['H', 'i']\n",
      "('H', 'i')\n",
      "['H', 'a']\n",
      "('H', 'i')\n"
     ]
    }
   ],
   "source": [
    "list1 = ['H','i']\n",
    "tuple1 = ('H','i')\n",
    "\n",
    "print(list1)\n",
    "print(tuple1)\n",
    "\n",
    "list1[1] = 'a'\n",
    "\n",
    "#tuple1[1] = 'b'\n",
    "print(list1)\n",
    "print(tuple1)\n"
   ]
  },
  {
   "cell_type": "code",
   "execution_count": 17,
   "id": "329c0259",
   "metadata": {},
   "outputs": [
    {
     "name": "stdout",
     "output_type": "stream",
     "text": [
      "H\n",
      "e\n",
      "d\n",
      "r\n",
      "['l', 'l', 'o', 'W', 'o', 'r', 'l', 'd']\n",
      "['H', 'e', 'l', 'l', 'o', 'W', 'o']\n",
      "['l', 'o']\n"
     ]
    }
   ],
   "source": [
    "list1 = ['H','e','l','l','o','W','o','r','l','d']\n",
    "print(list1[0])\n",
    "print(list1[1])\n",
    "print(list1[-1])\n",
    "print(list1[-3])\n",
    "\n",
    "print(list1[2:])\n",
    "print(list1[:-3])\n",
    "print(list1[3:5])\n",
    "        \n"
   ]
  },
  {
   "cell_type": "code",
   "execution_count": 18,
   "id": "ebc42d59",
   "metadata": {},
   "outputs": [
    {
     "name": "stdout",
     "output_type": "stream",
     "text": [
      "[60, 70, 75, 90, 100]\n",
      "[60, 70, 80, 90, 100]\n",
      "[60, 70, 90, 100]\n",
      "[60, 100]\n"
     ]
    },
    {
     "ename": "NameError",
     "evalue": "name 'scores' is not defined",
     "output_type": "error",
     "traceback": [
      "\u001b[1;31m---------------------------------------------------------------------------\u001b[0m",
      "\u001b[1;31mNameError\u001b[0m                                 Traceback (most recent call last)",
      "Cell \u001b[1;32mIn[18], line 10\u001b[0m\n\u001b[0;32m      8\u001b[0m \u001b[38;5;28mprint\u001b[39m(scores)\n\u001b[0;32m      9\u001b[0m \u001b[38;5;28;01mdel\u001b[39;00m scores\n\u001b[1;32m---> 10\u001b[0m \u001b[38;5;28mprint\u001b[39m(\u001b[43mscores\u001b[49m)\n",
      "\u001b[1;31mNameError\u001b[0m: name 'scores' is not defined"
     ]
    }
   ],
   "source": [
    "scores = [60,70,75,90,100]\n",
    "print(scores)\n",
    "scores[2] = 80\n",
    "print(scores)\n",
    "del scores[2]\n",
    "print(scores)\n",
    "del scores[1:3]\n",
    "print(scores)\n",
    "del scores\n",
    "print(scores)\n"
   ]
  },
  {
   "cell_type": "code",
   "execution_count": 19,
   "id": "1591e4f6",
   "metadata": {},
   "outputs": [
    {
     "name": "stdout",
     "output_type": "stream",
     "text": [
      "請輸入身分證A123456789\n",
      "出生地: 臺北市\n"
     ]
    }
   ],
   "source": [
    "places = {'A':'臺北市', 'B':'臺中市', 'C':'基隆市', 'D':'臺南市', 'E':'高雄市', 'F':'新北市',\n",
    "          'G':'宜蘭縣', 'H':'桃園市', 'I':'嘉義市', 'J':'新竹縣', 'K':'苗栗縣',\n",
    "          'M':'南投縣', 'N':'彰化縣', 'O':'新竹市', 'P':'雲林縣', 'Q':'嘉義縣', 'T':'屏東縣',\n",
    "          'U':'花蓮縣', 'V':'臺東縣', 'W':'金門縣', 'X':'澎湖縣', 'Z':'連江縣',\n",
    "          'L':'臺中縣', 'R':'臺南縣', 'S':'高雄縣', 'Y':'陽明山'}\n",
    "pid = input(\"請輸入身分證\")\n",
    "birth = pid[0]\n",
    "print(\"出生地:\",places[birth])\n"
   ]
  },
  {
   "cell_type": "code",
   "execution_count": 21,
   "id": "ae45b5d7",
   "metadata": {},
   "outputs": [
    {
     "name": "stdout",
     "output_type": "stream",
     "text": [
      "輸入摸彩號碼:2\n",
      "抽中了: 獎金十萬\n"
     ]
    }
   ],
   "source": [
    "prizes = ['汽車一輛','獎金十萬','家庭劇院一組',\n",
    "          '筆記型電腦一台','iPhone 手機一支',\n",
    "          'Switch遊樂器一台',\n",
    "          '飯店住宿券一張','飯店住宿券一張',\n",
    "          '下午茶券兩張','下午茶券兩張']\n",
    "\n",
    "#11-20 銘謝惠顧，明年還有機會\n",
    "# 1-10\n",
    "\n",
    "no = int(input(\"輸入摸彩號碼:\")) - 1\n",
    "if no >= 0 and  no < len(prizes):\n",
    "    print(\"抽中了:\",prizes[no])\n",
    "else:\n",
    "    print(\"沒抽中\")\n",
    "#print(len(prizes))\n",
    "\n"
   ]
  },
  {
   "cell_type": "markdown",
   "id": "cb6752f4",
   "metadata": {},
   "source": [
    "# 作業"
   ]
  },
  {
   "cell_type": "code",
   "execution_count": null,
   "id": "1016c6ee",
   "metadata": {},
   "outputs": [],
   "source": [
    "# 作業\n",
    "carList = ['Audi', 'Toyota', 'Benz', 'BMW', 'Mazda', 'Ford', 'BMW', 'Benz', 'BMW', 'Mazda']\n",
    "carSet  = {'Audi', 'Toyota', 'Benz', 'BMW', 'Mazda', 'Ford', 'BMW', 'Benz', 'BMW', 'Mazda'}\n",
    "# 輸入一個整數取得汽車品牌\n",
    "\n",
    "# 輸出所有汽車品牌\n",
    "\n",
    "# Audi / Benz / BMW 出現在carList次數\n"
   ]
  },
  {
   "cell_type": "code",
   "execution_count": 22,
   "id": "2528478c",
   "metadata": {},
   "outputs": [
    {
     "name": "stdout",
     "output_type": "stream",
     "text": [
      "False\n",
      "True\n",
      "False\n",
      "False\n",
      "True\n",
      "True\n"
     ]
    }
   ],
   "source": [
    "a = 3\n",
    "b = 5\n",
    "print(a == b)\n",
    "print(a != b)\n",
    "print(a > b)\n",
    "print(a >= b)\n",
    "print(a < b)\n",
    "print(a <= b)\n"
   ]
  },
  {
   "cell_type": "code",
   "execution_count": 23,
   "id": "b1115498",
   "metadata": {},
   "outputs": [
    {
     "name": "stdout",
     "output_type": "stream",
     "text": [
      "False\n",
      "True\n",
      "True\n",
      "True\n",
      "False\n",
      "False\n"
     ]
    }
   ],
   "source": [
    "a = True\n",
    "b = False\n",
    "\n",
    "print(a == b)\n",
    "print(a != b)\n",
    "print(a > b)\n",
    "print(a >= b)\n",
    "print(a < b)\n",
    "print(a <= b)"
   ]
  },
  {
   "cell_type": "code",
   "execution_count": 24,
   "id": "46f5ff85",
   "metadata": {},
   "outputs": [
    {
     "name": "stdout",
     "output_type": "stream",
     "text": [
      "False\n",
      "True\n",
      "True\n",
      "True\n",
      "False\n",
      "False\n"
     ]
    }
   ],
   "source": [
    "a = True\n",
    "b = 0\n",
    "\n",
    "print(a == b)\n",
    "print(a != b)\n",
    "print(a > b)\n",
    "print(a >= b)\n",
    "print(a < b)\n",
    "print(a <= b)"
   ]
  },
  {
   "cell_type": "code",
   "execution_count": 25,
   "id": "5a02831c",
   "metadata": {},
   "outputs": [
    {
     "name": "stdout",
     "output_type": "stream",
     "text": [
      "False\n",
      "True\n",
      "False\n",
      "False\n",
      "True\n",
      "True\n"
     ]
    }
   ],
   "source": [
    "a = \"Hello\"\n",
    "b = 'World'\n",
    "#小寫 > 大寫\n",
    "print(a == b)\n",
    "print(a != b)\n",
    "print(a > b)\n",
    "print(a >= b)\n",
    "print(a < b)\n",
    "print(a <= b)\n"
   ]
  },
  {
   "cell_type": "code",
   "execution_count": 26,
   "id": "5555b21d",
   "metadata": {},
   "outputs": [
    {
     "name": "stdout",
     "output_type": "stream",
     "text": [
      "True\n",
      "False\n",
      "False\n",
      "True\n"
     ]
    }
   ],
   "source": [
    "a = 'Hello'\n",
    "print('H' in a)\n",
    "print('h' in a)\n",
    "print('H' not in a)\n",
    "print('h' not in a)\n"
   ]
  },
  {
   "cell_type": "code",
   "execution_count": 27,
   "id": "9ff6f0fc",
   "metadata": {},
   "outputs": [
    {
     "name": "stdout",
     "output_type": "stream",
     "text": [
      "False\n",
      "True\n",
      "2159355620976\n",
      "2159355728752\n",
      "True\n",
      "False\n",
      "2159355728752\n",
      "2159355728752\n"
     ]
    }
   ],
   "source": [
    "a = 'Hello'\n",
    "b = 'World'\n",
    "\n",
    "print(b is a)\n",
    "print(b is not a)\n",
    "\n",
    "print(id(b))\n",
    "print(id(a))\n",
    "\n",
    "b = 'Hello'\n",
    "print(b is a)\n",
    "print(b is not a)\n",
    "\n",
    "print(id(a))\n",
    "print(id(b))\n"
   ]
  },
  {
   "cell_type": "code",
   "execution_count": 28,
   "id": "e5bde0e6",
   "metadata": {},
   "outputs": [
    {
     "name": "stdout",
     "output_type": "stream",
     "text": [
      "False\n",
      "False\n",
      "True\n",
      "False\n",
      "====================\n",
      "False\n",
      "True\n",
      "False\n",
      "True\n"
     ]
    }
   ],
   "source": [
    "h1,h2,h3,h4 = 175,178,183,190\n",
    "print(h1 >= 180 and h1 <=185)\n",
    "print(h2 >= 180 and h2 <=185)\n",
    "print(h3 >= 180 and h3 <=185)\n",
    "print(h4 >= 180 and h4 <=185)\n",
    "\n",
    "print(\"====================\")\n",
    "w1,w2,w3,w4 = 95,85,75,65\n",
    "\n",
    "print( 70 < w1 < 90)\n",
    "print(90 > w2 > 70)\n",
    "print( 70 < w3 > 90)\n",
    "print( 70 > w4 < 90)\n"
   ]
  },
  {
   "cell_type": "code",
   "execution_count": null,
   "id": "7baffaf0",
   "metadata": {},
   "outputs": [],
   "source": []
  }
 ],
 "metadata": {
  "kernelspec": {
   "display_name": "Python 3 (ipykernel)",
   "language": "python",
   "name": "python3"
  },
  "language_info": {
   "codemirror_mode": {
    "name": "ipython",
    "version": 3
   },
   "file_extension": ".py",
   "mimetype": "text/x-python",
   "name": "python",
   "nbconvert_exporter": "python",
   "pygments_lexer": "ipython3",
   "version": "3.8.16"
  }
 },
 "nbformat": 4,
 "nbformat_minor": 5
}
