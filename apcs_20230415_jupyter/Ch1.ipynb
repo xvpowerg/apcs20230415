{
 "cells": [
  {
   "cell_type": "markdown",
   "id": "87c224ca",
   "metadata": {},
   "source": [
    "# Pyhton APCS 第一章\n",
    "## 輸出畫面\n",
    "\n",
    "print(輸出內容)\n",
    "\n",
    "$ SE = \\frac{\\sigma}{\\sqrt{n}} $"
   ]
  },
  {
   "cell_type": "code",
   "execution_count": 2,
   "id": "e23d9cdb",
   "metadata": {},
   "outputs": [
    {
     "name": "stdout",
     "output_type": "stream",
     "text": [
      "Hello!\n"
     ]
    }
   ],
   "source": [
    "print(\"Hello!\")"
   ]
  },
  {
   "cell_type": "code",
   "execution_count": 2,
   "id": "9b3f4930",
   "metadata": {},
   "outputs": [
    {
     "name": "stdout",
     "output_type": "stream",
     "text": [
      "Hello World\n",
      "123\n",
      "1.41421\n",
      "3.1415 2.71828\n",
      "5_6_7_8\n",
      "AB\n",
      "C\n",
      "Vivin\n",
      "\n",
      "Ken\n"
     ]
    }
   ],
   "source": [
    "'''\n",
    "練習輸出\n",
    "'''\n",
    "print(\"Hello World\")\n",
    "print(123)\n",
    "print(1.41421)\n",
    "\n",
    "print(3.1415,2.71828)\n",
    "\n",
    "print(5,6,7,8,sep=\"_\")\n",
    "\n",
    "print(\"A\",end=\"\")#輸出A不換行\n",
    "print(\"B\")\n",
    "print(\"C\")\n",
    "print(\"Vivin\\n\\nKen\")\n"
   ]
  },
  {
   "cell_type": "code",
   "execution_count": 3,
   "id": "d06c7c5b",
   "metadata": {},
   "outputs": [
    {
     "name": "stdout",
     "output_type": "stream",
     "text": [
      "18\n",
      "12\n"
     ]
    }
   ],
   "source": [
    "age1 = 18\n",
    "# 2age = 15\n",
    "年齡3 = 12\n",
    "#class = 602\n",
    "print(age1)\n",
    "print(年齡3)"
   ]
  },
  {
   "cell_type": "code",
   "execution_count": 4,
   "id": "ba023fd5",
   "metadata": {},
   "outputs": [
    {
     "name": "stdout",
     "output_type": "stream",
     "text": [
      "本月銷售量: 18\n",
      "本月薪資: 43000 元\n"
     ]
    }
   ],
   "source": [
    "baseSalary = 25000\n",
    "comm = 1000\n",
    "sales = 18\n",
    "\n",
    "pay =  baseSalary + sales * comm\n",
    "\n",
    "print(\"本月銷售量:\",sales)\n",
    "print(\"本月薪資:\",pay,\"元\")\n"
   ]
  },
  {
   "cell_type": "code",
   "execution_count": 5,
   "id": "b5b24f56",
   "metadata": {},
   "outputs": [
    {
     "name": "stdout",
     "output_type": "stream",
     "text": [
      "250\n",
      "199\n",
      "15.25\n"
     ]
    },
    {
     "ename": "NameError",
     "evalue": "name 'price' is not defined",
     "output_type": "error",
     "traceback": [
      "\u001b[1;31m---------------------------------------------------------------------------\u001b[0m",
      "\u001b[1;31mNameError\u001b[0m                                 Traceback (most recent call last)",
      "Cell \u001b[1;32mIn[5], line 9\u001b[0m\n\u001b[0;32m      6\u001b[0m \u001b[38;5;28mprint\u001b[39m(price)\n\u001b[0;32m      8\u001b[0m \u001b[38;5;28;01mdel\u001b[39;00m price\n\u001b[1;32m----> 9\u001b[0m \u001b[38;5;28mprint\u001b[39m(\u001b[43mprice\u001b[49m)\n",
      "\u001b[1;31mNameError\u001b[0m: name 'price' is not defined"
     ]
    }
   ],
   "source": [
    "price = 250\n",
    "print(price)\n",
    "price = 199\n",
    "print(price)\n",
    "price = 15.25\n",
    "print(price)\n",
    "\n",
    "del price\n",
    "print(price)\n"
   ]
  },
  {
   "cell_type": "code",
   "execution_count": 6,
   "id": "de5741eb",
   "metadata": {},
   "outputs": [
    {
     "name": "stdout",
     "output_type": "stream",
     "text": [
      "3.3333333333333335\n",
      "3\n",
      "3.3333333333333335\n",
      "3.0\n"
     ]
    }
   ],
   "source": [
    "print(10 / 3)\n",
    "print(10 // 3)\n",
    "\n",
    "print(10 / 3.0)\n",
    "print(10 // 3.0)\n"
   ]
  },
  {
   "cell_type": "code",
   "execution_count": 7,
   "id": "3d754e70",
   "metadata": {},
   "outputs": [
    {
     "name": "stdout",
     "output_type": "stream",
     "text": [
      "1\n",
      "2\n",
      "3\n"
     ]
    }
   ],
   "source": [
    "count = 0\n",
    "\n",
    "count = count + 1\n",
    "print(count)\n",
    "count = count + 1\n",
    "print(count)\n",
    "count += 1\n",
    "print(count)\n"
   ]
  },
  {
   "cell_type": "code",
   "execution_count": 8,
   "id": "60891e03",
   "metadata": {},
   "outputs": [
    {
     "name": "stdout",
     "output_type": "stream",
     "text": [
      "19\n",
      "11\n",
      "77\n",
      "12\n",
      "2\n",
      "0.5\n",
      "0.125\n"
     ]
    }
   ],
   "source": [
    "num = 10\n",
    "num += 9\n",
    "print(num)\n",
    "num -= 8\n",
    "print(num)\n",
    "num *= 7\n",
    "print(num)\n",
    "num //= 6\n",
    "print(num)\n",
    "num %= 5\n",
    "print(num)\n",
    "num /= 4\n",
    "print(num)\n",
    "num **=   3\n",
    "print(num)"
   ]
  },
  {
   "cell_type": "code",
   "execution_count": 9,
   "id": "e90c0eae",
   "metadata": {},
   "outputs": [
    {
     "name": "stdout",
     "output_type": "stream",
     "text": [
      "16\n",
      "2\n"
     ]
    }
   ],
   "source": [
    "n = 2\n",
    "\n",
    "print(n**4)\n",
    "\n",
    "print(3527 % 3)# 0 ~2"
   ]
  },
  {
   "cell_type": "code",
   "execution_count": 10,
   "id": "8828697d",
   "metadata": {},
   "outputs": [
    {
     "name": "stdout",
     "output_type": "stream",
     "text": [
      "200\n",
      "3200\n"
     ]
    }
   ],
   "source": [
    "coin1 = 20\n",
    "coin5 = 10\n",
    "coin10 = 3\n",
    "coin50 = 2\n",
    "coin_total = coin50*50 + coin10 * 10 + coin5 * 5 + coin1\n",
    "print(coin_total)\n",
    "\n",
    "\n",
    "b100 = 3\n",
    "b200 = 2\n",
    "b500 = 1\n",
    "b1000 = 2\n",
    "bTotal = (b100 + b200 * 2 + b500 * 5+ b1000 * 10) * 100\n",
    "print(bTotal)\n"
   ]
  },
  {
   "cell_type": "code",
   "execution_count": 11,
   "id": "4ffc7ba9",
   "metadata": {},
   "outputs": [
    {
     "name": "stdout",
     "output_type": "stream",
     "text": [
      "攝氏: 0 華氏: 32.0\n",
      "攝氏: 25 華氏: 77.0\n",
      "攝氏: 98 華氏: 208.4\n"
     ]
    }
   ],
   "source": [
    "tc1,tc2,tc3 = 0,25,98\n",
    "\n",
    "tf1 = 9 / 5 * tc1 + 32\n",
    "tf2 = 9 / 5 * tc2 + 32\n",
    "tf3 = 9 / 5 * tc3 + 32\n",
    "\n",
    "print(\"攝氏:\",tc1,\"華氏:\",tf1)\n",
    "print(\"攝氏:\",tc2,\"華氏:\",tf2)\n",
    "print(\"攝氏:\",tc3,\"華氏:\",tf3)"
   ]
  },
  {
   "cell_type": "code",
   "execution_count": 13,
   "id": "9e14d8ef",
   "metadata": {},
   "outputs": [
    {
     "name": "stdout",
     "output_type": "stream",
     "text": [
      "Hello World\n",
      "Hello Hello Hello \n",
      "5\n",
      "23\n",
      "23\n",
      "5\n"
     ]
    }
   ],
   "source": [
    "msg = \"Hello\" + ' World'\n",
    "print(msg)\n",
    "msg = \"Hello \" * 3\n",
    "print(msg)\n",
    "\n",
    "ans = 2 + 3\n",
    "print(ans)\n",
    "str2 = \"2\" + \"3\"\n",
    "print(str2)\n",
    "print(str(2) + '3')\n",
    "print(2 + int('3'))\n"
   ]
  },
  {
   "cell_type": "code",
   "execution_count": 15,
   "id": "01cfaa34",
   "metadata": {},
   "outputs": [
    {
     "name": "stdout",
     "output_type": "stream",
     "text": [
      "3 4\n",
      "4 3\n",
      "==================\n",
      "9 71\n",
      "71 9\n"
     ]
    }
   ],
   "source": [
    "a = 3\n",
    "b = 4\n",
    "print(a,b)\n",
    "tmp =  b\n",
    "b = a\n",
    "a = tmp\n",
    "print(a,b)\n",
    "\n",
    "print(\"==================\")\n",
    "g = 9\n",
    "f = 71\n",
    "print(g,f)\n",
    "\n",
    "g,f = f,g\n",
    "print(g,f)\n"
   ]
  },
  {
   "cell_type": "code",
   "execution_count": 16,
   "id": "efca47e9",
   "metadata": {},
   "outputs": [
    {
     "name": "stdout",
     "output_type": "stream",
     "text": [
      "{'name':'Ken'}\n",
      "{'value' = 1 2 1 2 1 2 1 2 1 2 }\n"
     ]
    }
   ],
   "source": [
    "msg1 = \"{\"\n",
    "msg2 = \"'name':'Ken'\"\n",
    "msg3 = \"}\"\n",
    "json = msg1+msg2+msg3\n",
    "print(json)\n",
    "\n",
    "data = \"1 2 \"\n",
    "msg2 = \"'value' = \" + data * 5\n",
    "\n",
    "json = msg1 + msg2 + msg3\n",
    "print(json)\n"
   ]
  },
  {
   "cell_type": "code",
   "execution_count": 17,
   "id": "6e46cc52",
   "metadata": {},
   "outputs": [
    {
     "name": "stdout",
     "output_type": "stream",
     "text": [
      "123+456=579\n"
     ]
    }
   ],
   "source": [
    "x = 123\n",
    "y = '456'\n",
    "z = x + int(y)\n",
    "ans = str(x)+\"+\"+y+\"=\"+str(z)\n",
    "print(ans)# 123 + 456 = 579\n"
   ]
  },
  {
   "cell_type": "code",
   "execution_count": null,
   "id": "ceacf910",
   "metadata": {},
   "outputs": [],
   "source": []
  }
 ],
 "metadata": {
  "kernelspec": {
   "display_name": "Python 3 (ipykernel)",
   "language": "python",
   "name": "python3"
  },
  "language_info": {
   "codemirror_mode": {
    "name": "ipython",
    "version": 3
   },
   "file_extension": ".py",
   "mimetype": "text/x-python",
   "name": "python",
   "nbconvert_exporter": "python",
   "pygments_lexer": "ipython3",
   "version": "3.8.16"
  }
 },
 "nbformat": 4,
 "nbformat_minor": 5
}
