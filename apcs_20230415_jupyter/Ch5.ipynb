{
 "cells": [
  {
   "cell_type": "code",
   "execution_count": 1,
   "id": "2ae89afa",
   "metadata": {},
   "outputs": [
    {
     "name": "stdout",
     "output_type": "stream",
     "text": [
      "輸入身分證字號:A123456789\n",
      "先生您好!\n",
      "出生地: 臺北市\n"
     ]
    }
   ],
   "source": [
    "places = {'A':(10, '臺北市'), 'B':(11, '臺中市'), 'C':(12, '基隆市'), 'D':(13, '臺南市'),\n",
    "          'E':(14, '高雄市'), 'F':(15, '新北市'), 'G':(16, '宜蘭縣'), 'H':(17, '桃園市'),\n",
    "          'I':(34, '嘉義市'), 'J':(18, '新竹縣'), 'K':(19, '苗栗縣'), 'M':(21, '南投縣'),\n",
    "          'N':(22, '彰化縣'), 'O':(35, '新竹市'), 'P':(23, '雲林縣'), 'Q':(24, '嘉義縣'),\n",
    "          'T':(27, '屏東縣'), 'U':(28, '花蓮縣'), 'V':(29, '臺東縣'), 'W':(32, '金門縣'),\n",
    "          'X':(30, '澎湖縣'), 'Z':(33, '連江縣'),\n",
    "          'L':(20, '臺中縣'), 'R':(25, '臺南縣'), 'S':(26, '高雄縣'), 'Y':(31, '陽明山')}\n",
    "\n",
    "weight = [8,7,6,5,4,3,2,1,1]\n",
    "#A123456789\n",
    "def isValidId(pid):\n",
    "    if(pid[0] not in places):\n",
    "        return False\n",
    "    if(pid[1]!='1' and pid[1]!='2'):\n",
    "        return False\n",
    "    checkSum = 0\n",
    "    checkSum = p2sum(places[pid[0]][0])#取得地區的數字\n",
    "    for i in range(1, 10):\n",
    "        checkSum += int(pid[i])*weight[i-1]\n",
    "    if(checkSum%10==0):\n",
    "        return True\n",
    "    else:\n",
    "        return False\n",
    "# 取得num//10 開頭\n",
    "#取得num%10取得尾\n",
    "def p2sum(num):\n",
    "    return num//10*1+num%10*9\n",
    "\n",
    "pid = input('輸入身分證字號:')\n",
    "\n",
    "if(isValidId(pid)):\n",
    "    gender = int(pid[1])\n",
    "    birth = pid[0]\n",
    "    if(gender == 1):\n",
    "        print('先生您好!')\n",
    "    else:\n",
    "        print('小姐您好!')\n",
    "    print('出生地:', places[birth][1])\n",
    "else:\n",
    "    print('身份證字號無效:%s' %pid)\n"
   ]
  },
  {
   "cell_type": "code",
   "execution_count": 2,
   "id": "406e2e62",
   "metadata": {},
   "outputs": [
    {
     "name": "stdout",
     "output_type": "stream",
     "text": [
      "字母接龍\n",
      "請輸入字串:ABC\n",
      "目前字串:ABC\n",
      "請輸入-C-開始的字串:CDE\n",
      "目前字串:ABC-CDE\n",
      "請輸入-E-開始的字串:EFG\n",
      "目前字串:ABC-CDE-EFG\n",
      "請輸入-G-開始的字串:AAA\n",
      "輸入錯誤1次\n",
      "目前字串:ABC-CDE-EFG\n",
      "請輸入-G-開始的字串:BBB\n",
      "輸入錯誤2次\n",
      "目前字串:ABC-CDE-EFG\n",
      "請輸入-G-開始的字串:CCC\n",
      "輸入錯誤3次\n",
      "目前字串:ABC-CDE-EFG\n",
      "請輸入-G-開始的字串:DDD\n",
      "輸入錯誤4次\n",
      "目前字串:ABC-CDE-EFG\n",
      "請輸入-G-開始的字串:EEE\n",
      "輸入錯誤5次\n",
      "錯誤超過五次,遊戲結束!\n"
     ]
    }
   ],
   "source": [
    "str_result=input('字母接龍\\n請輸入字串:')\n",
    "eCount=0\n",
    "while(eCount<5):    \n",
    "    print('目前字串:%s' %str_result)\n",
    "    str_in = input('請輸入-%s-開始的字串:' %str_result[-1].upper())\n",
    "    if(str_in[0].lower()==str_result[-1].lower()):\n",
    "        str_result+=\"-\"+str_in\n",
    "    else:\n",
    "        eCount += 1\n",
    "        print('輸入錯誤%d次' %eCount)\n",
    "\n",
    "print('錯誤超過五次,遊戲結束!')\n"
   ]
  },
  {
   "cell_type": "code",
   "execution_count": 3,
   "id": "4f9682fa",
   "metadata": {},
   "outputs": [
    {
     "name": "stdout",
     "output_type": "stream",
     "text": [
      "[5, 2, 1, 9, 6]\n",
      "[1, 2, 5, 6, 9]\n",
      "[5, 2, 1, 9, 6]\n",
      "[1, 2, 5, 6, 9]\n"
     ]
    }
   ],
   "source": [
    "nums = [5,2,1,9,6]\n",
    "print(nums)\n",
    "print(sorted(nums))#不影響原本的list\n",
    "print(nums)\n",
    "nums.sort()\n",
    "print(nums)#會影響原本的list\n"
   ]
  },
  {
   "cell_type": "code",
   "execution_count": 4,
   "id": "0090cba6",
   "metadata": {},
   "outputs": [
    {
     "name": "stdout",
     "output_type": "stream",
     "text": [
      "['honda', 'BMW', 'Toyota', 'audi']\n",
      "['BMW', 'Toyota', 'audi', 'honda']\n",
      "['honda', 'audi', 'Toyota', 'BMW']\n",
      "['BMW', 'audi', 'honda', 'Toyota']\n",
      "['audi', 'BMW', 'honda', 'Toyota']\n",
      "['audi', 'BMW', 'honda', 'Toyota']\n"
     ]
    }
   ],
   "source": [
    "car =['honda',\"BMW\",\"Toyota\",\"audi\"]\n",
    "print(car)\n",
    "car.sort()\n",
    "print(car)\n",
    "car.sort(reverse = True)\n",
    "print(car)\n",
    "car.sort(key=len)\n",
    "print(car)\n",
    "car.sort(key=lambda v:(v.upper(),v))\n",
    "print(car)\n",
    "car.sort(key=str.upper)\n",
    "print(car)\n"
   ]
  },
  {
   "cell_type": "code",
   "execution_count": 5,
   "id": "d9ebd86a",
   "metadata": {},
   "outputs": [
    {
     "name": "stdout",
     "output_type": "stream",
     "text": [
      "admins有2人\n",
      "users有3人\n",
      "Justin是否為admins: True\n",
      "David是否為users: False\n",
      "admins列表:\n",
      "Justin\n",
      "David\n"
     ]
    }
   ],
   "source": [
    "admins={'Justin','David'}\n",
    "users={'Mary','Nicole','Justin'}\n",
    "\n",
    "print(\"admins有%d人\" %(len(admins)))\n",
    "print(\"users有%d人\" %(len(users)))\n",
    "\n",
    "print(\"Justin是否為admins:\", 'Justin' in admins)\n",
    "print(\"David是否為users:\", 'David' in users)\n",
    "\n",
    "print(\"admins列表:\")\n",
    "for name in admins:\n",
    "    print(name)\n"
   ]
  },
  {
   "cell_type": "code",
   "execution_count": 6,
   "id": "bc5057de",
   "metadata": {},
   "outputs": [
    {
     "name": "stdout",
     "output_type": "stream",
     "text": [
      "User 集合: {'Nicole', 'Justin', 'Mary'}\n",
      "加入Sean\n",
      "User 集合: {'Nicole', 'Justin', 'Sean', 'Mary'}\n",
      "加入Mary\n",
      "User 集合: {'Nicole', 'Justin', 'Sean', 'Mary'}\n",
      "移除Sean\n",
      "User 集合: {'Nicole', 'Justin', 'Mary'}\n",
      "丟棄Mary\n",
      "User 集合: {'Nicole', 'Justin'}\n",
      "彈出: Nicole\n",
      "User 集合: {'Justin'}\n",
      "清空: None\n",
      "User 集合: set()\n"
     ]
    }
   ],
   "source": [
    "users={'Mary','Nicole','Justin'}\n",
    "print(\"User 集合:\", users)\n",
    "\n",
    "users.add('Sean')\n",
    "print(\"加入Sean\")\n",
    "print(\"User 集合:\", users)\n",
    "users.add('Mary')\n",
    "print(\"加入Mary\")\n",
    "print(\"User 集合:\", users)\n",
    "\n",
    "users.remove('Sean')\n",
    "print(\"移除Sean\")\n",
    "print(\"User 集合:\", users)\n",
    "#users.remove('Sean')\n",
    "\n",
    "users.discard('Mary')\n",
    "print(\"丟棄Mary\")\n",
    "print(\"User 集合:\", users)\n",
    "#users.discard('Mary')\n",
    "\n",
    "popped = users.pop()\n",
    "print(\"彈出:\", popped)\n",
    "print(\"User 集合:\", users)\n",
    "print(\"清空:\", users.clear())\n",
    "print(\"User 集合:\", users)\n",
    "#users.pop()\n",
    "#print(\"User 集合:\", users)\n"
   ]
  },
  {
   "cell_type": "code",
   "execution_count": 7,
   "id": "a3aaa4ba",
   "metadata": {},
   "outputs": [
    {
     "name": "stdout",
     "output_type": "stream",
     "text": [
      "交集: {'Justin'}\n",
      "聯集: {'Nicole', 'Justin', 'Mary', 'David'}\n",
      "差集: {'David'}\n",
      "差集: {'Nicole', 'Mary'}\n",
      "對稱差集: {'Nicole', 'Mary', 'David'}\n"
     ]
    }
   ],
   "source": [
    "admins={'Justin','David'}\n",
    "users={'Mary','Nicole','Justin'}\n",
    "\n",
    "#intersect = admins & users\n",
    "intersect = admins.intersection(users)\n",
    "print(\"交集:\", intersect)\n",
    "\n",
    "#union = admins | users\n",
    "union = admins.union(users)\n",
    "print(\"聯集:\", union)\n",
    "\n",
    "#difference1 = admins - users\n",
    "difference1 = admins.difference(users)\n",
    "print(\"差集:\", difference1)\n",
    "#difference2 = users - admins\n",
    "difference2 = users.difference(admins)\n",
    "print(\"差集:\", difference2)\n",
    "\n",
    "#sym_difference = admins ^ users\n",
    "sym_difference = admins.symmetric_difference(users)\n",
    "print(\"對稱差集:\", sym_difference)\n"
   ]
  },
  {
   "cell_type": "code",
   "execution_count": 8,
   "id": "4d6bbf94",
   "metadata": {},
   "outputs": [
    {
     "name": "stdout",
     "output_type": "stream",
     "text": [
      "{'Ch': 100, 'En': 80, 'Ma': 95}\n",
      "dict_keys(['Ch', 'En', 'Ma'])\n",
      "dict_values([100, 80, 95])\n",
      "dict_items([('Ch', 100), ('En', 80), ('Ma', 95)])\n"
     ]
    }
   ],
   "source": [
    "scores = {'Ch':100,'En':80,'Ma':95}\n",
    "print(scores)\n",
    "print(scores.keys())\n",
    "print(scores.values())\n",
    "print(scores.items())\n"
   ]
  },
  {
   "cell_type": "code",
   "execution_count": 9,
   "id": "67cb31f2",
   "metadata": {},
   "outputs": [
    {
     "name": "stdout",
     "output_type": "stream",
     "text": [
      "{'Ch': 100, 'En': 80, 'Ma': 95}\n",
      "{'Ch': 100, 'En': 80, 'Ma': 95, 'So': 90, 'Cp': 85}\n",
      "{'Ch': 100, 'En': 73, 'Ma': 95, 'So': 90, 'Cp': 85}\n"
     ]
    }
   ],
   "source": [
    "scores = {'Ch':100,'En':80,'Ma':95}\n",
    "print(scores)\n",
    "add_dic={'So':90}\n",
    "scores.update(add_dic)\n",
    "scores['Cp'] = 85\n",
    "print(scores)\n",
    "scores['En'] = 73\n",
    "print(scores)\n"
   ]
  },
  {
   "cell_type": "code",
   "execution_count": 10,
   "id": "a925406f",
   "metadata": {},
   "outputs": [
    {
     "name": "stdout",
     "output_type": "stream",
     "text": [
      "{'Ch': 100, 'En': 80, 'Ma': 95, 'Na': 90}\n",
      "95\n",
      "95\n",
      "N/A\n",
      "80\n",
      "{'Ch': 100, 'Ma': 95, 'Na': 90}\n",
      "N/A\n"
     ]
    }
   ],
   "source": [
    "scores = {'Ch':100,'En':80,'Ma':95,'Na':90}\n",
    "print(scores)\n",
    "print(scores.get('Ma'))\n",
    "print(scores['Ma'])\n",
    "print(scores.get('Pc','N/A'))\n",
    "#print(scores['Pc']) 會有KeyError\n",
    "print(scores.pop('En'))\n",
    "print(scores)\n",
    "print(scores.pop('Pc','N/A'))\n"
   ]
  },
  {
   "cell_type": "code",
   "execution_count": 11,
   "id": "7fc42a4e",
   "metadata": {},
   "outputs": [
    {
     "name": "stdout",
     "output_type": "stream",
     "text": [
      "{'Ch': 100, 'En': 80, 'Ma': 95, 'Na': 90}\n",
      "{'En': 80, 'Ma': 95, 'Na': 90}\n",
      "{}\n"
     ]
    }
   ],
   "source": [
    "scores = {'Ch':100,'En':80,'Ma':95,'Na':90}\n",
    "print(scores)\n",
    "del scores['Ch']\n",
    "print(scores)\n",
    "scores.clear()\n",
    "print(scores)"
   ]
  },
  {
   "cell_type": "code",
   "execution_count": 12,
   "id": "698353e2",
   "metadata": {},
   "outputs": [
    {
     "name": "stdout",
     "output_type": "stream",
     "text": [
      "{'Ch': 100, 'En': 80, 'Ma': 95, 'Na': 90}\n",
      "['Ch', 'En', 'Ma', 'Na']\n",
      "[80, 90, 95, 100]\n",
      "['Na', 'Ma', 'En', 'Ch']\n",
      "[100, 95, 90, 80]\n"
     ]
    }
   ],
   "source": [
    "scores = {'Ch':100,'En':80,'Ma':95,'Na':90}\n",
    "print(scores)\n",
    "print(sorted(scores))\n",
    "print(sorted(scores.values()))\n",
    "print(sorted(scores,reverse = True))\n",
    "print(sorted(scores.values(),reverse = True))"
   ]
  },
  {
   "attachments": {
    "image.png": {
     "image/png": "[encoded data removed]"
    }
   },
   "cell_type": "markdown",
   "id": "aa272b78",
   "metadata": {},
   "source": [
    "![image.png](attachment:image.png)"
   ]
  },
  {
   "cell_type": "code",
   "execution_count": null,
   "id": "6e4e3400",
   "metadata": {},
   "outputs": [],
   "source": [
    "song = \"\"\"Are you sleeping, are you sleeping, Brother John, Brother John?\n",
    "Morning bells are ringing, morning bells are ringing.\n",
    "Ding ding dong, Ding ding dong.\"\"\"\n",
    "dict = {}                           # 空字典未來儲存單字計數結果\n",
    "print(\"原始歌詞\")\n",
    "print(song)\n",
    "\n",
    "# 將歌曲大寫字母改成小寫\n",
    "songLower = song.lower()            # 歌曲改為小寫\n",
    "print(\"小寫歌詞\")\n",
    "print(songLower)\n",
    "\n",
    "# 去掉標點符號\n",
    "for ch in songLower:                \n",
    "    if ch in \".,?\":                 # 將歌曲的標點符號用空字元取代\n",
    "        songLower = songLower.replace(ch,'')\n",
    "print(\"去掉標點符號\")    \n",
    "print(songLower)\n"
   ]
  },
  {
   "cell_type": "code",
   "execution_count": 13,
   "id": "70c8a0eb",
   "metadata": {},
   "outputs": [
    {
     "name": "stdout",
     "output_type": "stream",
     "text": [
      "10.0\n",
      "7\n"
     ]
    }
   ],
   "source": [
    "num1 = 10\n",
    "num2 = 1\n",
    "nums = [1,3,5,7,9]\n",
    "#print(num1 * num3)\n",
    "print(num1 / num2)\n",
    "#print(num1 / (num2 - 1))\n",
    "print(nums[3])\n",
    "#print(nums[9])\n"
   ]
  },
  {
   "cell_type": "code",
   "execution_count": 14,
   "id": "655d7b40",
   "metadata": {},
   "outputs": [
    {
     "name": "stdout",
     "output_type": "stream",
     "text": [
      "0\n",
      "產生例外\n",
      "程式完成\n"
     ]
    }
   ],
   "source": [
    "num1 = 10\n",
    "num2 = 0\n",
    "nums = [1, 3, 5, 7, 9]\n",
    "try:\n",
    "    print(num1 * num2)\n",
    "    print(num1 / num2)\n",
    "    print(nums[2])\n",
    "except:\n",
    "     print(\"產生例外\")\n",
    "print(\"程式完成\")\n"
   ]
  },
  {
   "cell_type": "code",
   "execution_count": 15,
   "id": "4124b939",
   "metadata": {},
   "outputs": [
    {
     "name": "stdout",
     "output_type": "stream",
     "text": [
      "產生例外:NameError\n",
      "程式完成\n"
     ]
    }
   ],
   "source": [
    "num1 = 10\n",
    "num2 = 0\n",
    "nums = [1, 3, 5, 7, 9]\n",
    "try:\n",
    "    print(num1 * num3)\n",
    "    #print(num1 / num2)\n",
    "    #print(nums[100])\n",
    "except ZeroDivisionError:\n",
    "     print(\"產生例外:ZeroDivisionError\")\n",
    "except NameError:\n",
    "    print(\"產生例外:NameError\")\n",
    "except:\n",
    "    print(\"Otehr!\")\n",
    "print(\"程式完成\")\n"
   ]
  },
  {
   "cell_type": "code",
   "execution_count": 16,
   "id": "ae1587b1",
   "metadata": {},
   "outputs": [
    {
     "name": "stdout",
     "output_type": "stream",
     "text": [
      "10.0\n",
      "Error沒發生\n"
     ]
    }
   ],
   "source": [
    "num1 = 10\n",
    "num2 = 0\n",
    "nums = [1, 3, 5, 7, 9]\n",
    "try:\n",
    "    print(num1 /(num2 + 1))\n",
    "    #print(num1 * num3)\n",
    "except:\n",
    "    print(\"錯誤發生\")\n",
    "else:\n",
    "    print(\"Error沒發生\")    \n",
    "\n"
   ]
  },
  {
   "cell_type": "code",
   "execution_count": 17,
   "id": "2b1c539a",
   "metadata": {},
   "outputs": [
    {
     "name": "stdout",
     "output_type": "stream",
     "text": [
      "錯誤發生\n",
      "釋放資源\n"
     ]
    }
   ],
   "source": [
    "num1 = 10\n",
    "num2 = 0\n",
    "nums = [1, 3, 5, 7, 9]\n",
    "try:\n",
    "    #print(num1 /(num2 + 1))\n",
    "    print(num1 * num3)\n",
    "except:\n",
    "    print(\"錯誤發生\")\n",
    "else:\n",
    "    print(\"Error沒發生\")    \n",
    "finally:\n",
    "    print(\"釋放資源\")\n"
   ]
  },
  {
   "cell_type": "code",
   "execution_count": 18,
   "id": "ff8dd2aa",
   "metadata": {},
   "outputs": [
    {
     "name": "stdout",
     "output_type": "stream",
     "text": [
      "1~5:2\n",
      "答錯了\n"
     ]
    }
   ],
   "source": [
    "import random\n",
    "ans = random.randint(1,5)\n",
    "guess = int(input(\"1~5:\"))\n",
    "if guess == ans:\n",
    "    print(\"答對了\")\n",
    "else:\n",
    "    print(\"答錯了\")\n"
   ]
  },
  {
   "cell_type": "code",
   "execution_count": 19,
   "id": "19efd78d",
   "metadata": {},
   "outputs": [
    {
     "name": "stdout",
     "output_type": "stream",
     "text": [
      "橘子\n"
     ]
    }
   ],
   "source": [
    "import random\n",
    "fruits = ['香蕉','蘋果','橘子','西瓜']\n",
    "myChoice = random.choice(fruits)\n",
    "print(myChoice)\n"
   ]
  },
  {
   "cell_type": "code",
   "execution_count": 20,
   "id": "ec9b5612",
   "metadata": {},
   "outputs": [
    {
     "name": "stdout",
     "output_type": "stream",
     "text": [
      "['b', 'f', 'a']\n",
      "['蘋果', '香蕉']\n"
     ]
    }
   ],
   "source": [
    "import random\n",
    "fruits = ['香蕉','蘋果','橘子','西瓜']\n",
    "c = random.sample(\"abcdefghij\",3)\n",
    "print(c)\n",
    "f = random.sample(fruits,2)\n",
    "print(f)\n"
   ]
  },
  {
   "cell_type": "code",
   "execution_count": 24,
   "id": "70b3f25b",
   "metadata": {},
   "outputs": [
    {
     "name": "stdout",
     "output_type": "stream",
     "text": [
      "314.159\n"
     ]
    }
   ],
   "source": [
    "import calculator\n",
    "r = 10\n",
    "area = calculator.calcArea(r)\n",
    "print(area)\n"
   ]
  },
  {
   "cell_type": "code",
   "execution_count": 23,
   "id": "0ee1b731",
   "metadata": {},
   "outputs": [
    {
     "name": "stdout",
     "output_type": "stream",
     "text": [
      "89.6\n",
      "452.38895999999994\n"
     ]
    }
   ],
   "source": [
    "import calculator as calc\n",
    "tf = calc.toFahrenheit(32)\n",
    "print(tf)\n",
    "area = calc.calcArea(12)\n",
    "print(area)\n"
   ]
  },
  {
   "cell_type": "code",
   "execution_count": 22,
   "id": "a8835ccc",
   "metadata": {},
   "outputs": [
    {
     "name": "stdout",
     "output_type": "stream",
     "text": [
      "您的體重正常\n"
     ]
    }
   ],
   "source": [
    "from calculator import calcBmi,getMessage\n",
    "h = 175\n",
    "w = 70\n",
    "bmi = calcBmi(h,w)\n",
    "msg = getMessage(bmi)\n",
    "print(msg)\n",
    "\n"
   ]
  },
  {
   "cell_type": "code",
   "execution_count": 25,
   "id": "829e3e33",
   "metadata": {},
   "outputs": [
    {
     "name": "stdout",
     "output_type": "stream",
     "text": [
      "<__main__.Employee object at 0x000001C17EEDFF10>\n"
     ]
    }
   ],
   "source": [
    "class Employee:\n",
    "    pass\n",
    "emp = Employee()\n",
    "print(emp)\n"
   ]
  },
  {
   "cell_type": "code",
   "execution_count": 26,
   "id": "e826b840",
   "metadata": {},
   "outputs": [
    {
     "name": "stdout",
     "output_type": "stream",
     "text": [
      "<__main__.Employee object at 0x000001C17EEBD9A0>\n",
      "Ken\n",
      "50000\n",
      "Iris\n"
     ]
    },
    {
     "ename": "AttributeError",
     "evalue": "'Employee' object has no attribute 'salary'",
     "output_type": "error",
     "traceback": [
      "\u001b[1;31m---------------------------------------------------------------------------\u001b[0m",
      "\u001b[1;31mAttributeError\u001b[0m                            Traceback (most recent call last)",
      "Cell \u001b[1;32mIn[26], line 12\u001b[0m\n\u001b[0;32m     10\u001b[0m emp2\u001b[38;5;241m.\u001b[39mname \u001b[38;5;241m=\u001b[39m \u001b[38;5;124m\"\u001b[39m\u001b[38;5;124mIris\u001b[39m\u001b[38;5;124m\"\u001b[39m\n\u001b[0;32m     11\u001b[0m \u001b[38;5;28mprint\u001b[39m(emp2\u001b[38;5;241m.\u001b[39mname)\n\u001b[1;32m---> 12\u001b[0m \u001b[38;5;28mprint\u001b[39m(\u001b[43memp2\u001b[49m\u001b[38;5;241;43m.\u001b[39;49m\u001b[43msalary\u001b[49m)\n",
      "\u001b[1;31mAttributeError\u001b[0m: 'Employee' object has no attribute 'salary'"
     ]
    }
   ],
   "source": [
    "class Employee:\n",
    "    pass\n",
    "emp = Employee()\n",
    "print(emp)\n",
    "emp.name = \"Ken\"\n",
    "emp.salary = 50000\n",
    "print(emp.name)\n",
    "print(emp.salary)\n",
    "emp2 = Employee()\n",
    "emp2.name = \"Iris\"\n",
    "print(emp2.name)\n",
    "print(emp2.salary)\n"
   ]
  },
  {
   "cell_type": "code",
   "execution_count": 27,
   "id": "9954549c",
   "metadata": {},
   "outputs": [
    {
     "name": "stdout",
     "output_type": "stream",
     "text": [
      "Name: Sean\n",
      "Salary: 50000\n",
      "Name: Ken\n",
      "Salary: 70000\n"
     ]
    }
   ],
   "source": [
    "class Employee:\n",
    "    def __init__(self,name,salary=20000):\n",
    "        self.name = name\n",
    "        self.salary = salary\n",
    "    def printInfo(slef):\n",
    "        print(\"Name:\",slef.name)\n",
    "        print(\"Salary:\",slef.salary)\n",
    "        \n",
    "emp1 = Employee(\"Sean\",50000)\n",
    "emp2 = Employee(\"Ken\",70000)\n",
    "'''\n",
    "print(emp1.name)\n",
    "print(emp1.salary)\n",
    "\n",
    "print(emp2.name)\n",
    "print(emp2.salary)\n",
    "'''\n",
    "emp1.printInfo()\n",
    "emp2.printInfo()\n"
   ]
  },
  {
   "cell_type": "code",
   "execution_count": 28,
   "id": "858e6350",
   "metadata": {},
   "outputs": [
    {
     "name": "stdout",
     "output_type": "stream",
     "text": [
      "Name: Sean\n",
      "Salary: 50000\n",
      "Compnay: IBM\n",
      "Name: Ken\n",
      "Salary: 70000\n",
      "Compnay: IBM\n",
      "Name: Sean\n",
      "Salary: 50000\n",
      "Compnay: FB\n",
      "Name: Ken\n",
      "Salary: 70000\n",
      "Compnay: FB\n"
     ]
    }
   ],
   "source": [
    "class Employee:\n",
    "    compnay = \"IBM\"\n",
    "    def __init__(self,name,salary=20000):\n",
    "        self.name = name\n",
    "        self.salary = salary\n",
    "    def printInfo(slef):\n",
    "        print(\"Name:\",slef.name)\n",
    "        print(\"Salary:\",slef.salary)\n",
    "        print(\"Compnay:\",Employee.compnay)\n",
    "        \n",
    "emp1 = Employee(\"Sean\",50000)\n",
    "emp2 = Employee(\"Ken\",70000)\n",
    "'''\n",
    "print(emp1.name)\n",
    "print(emp1.salary)\n",
    "\n",
    "print(emp2.name)\n",
    "print(emp2.salary)\n",
    "'''\n",
    "emp1.printInfo()\n",
    "emp2.printInfo()\n",
    "Employee.compnay = \"FB\"\n",
    "emp1.printInfo()\n",
    "emp2.printInfo()\n"
   ]
  },
  {
   "cell_type": "code",
   "execution_count": 29,
   "id": "4f7a9a61",
   "metadata": {},
   "outputs": [
    {
     "name": "stdout",
     "output_type": "stream",
     "text": [
      "Name: Sean\n",
      "Salary: 50000\n",
      "Compnay: IBM\n",
      "Name: Ken\n",
      "Salary: 70000\n",
      "Compnay: IBM\n",
      "Name: Vivin\n",
      "Salary: 20000\n",
      "Compnay: IBM\n",
      "3\n"
     ]
    }
   ],
   "source": [
    "class Employee:\n",
    "    compnay = \"IBM\"\n",
    "    count = 0\n",
    "    def __init__(self,name,salary=20000):\n",
    "        self.name = name\n",
    "        self.salary = salary\n",
    "        Employee.count += 1\n",
    "    def printInfo(slef):\n",
    "        print(\"Name:\",slef.name)\n",
    "        print(\"Salary:\",slef.salary)\n",
    "        print(\"Compnay:\",Employee.compnay)\n",
    "    def getTotal():\n",
    "        return Employee.count\n",
    "emp1 = Employee(\"Sean\",50000)\n",
    "emp2 = Employee(\"Ken\",70000)\n",
    "emp3 = Employee(\"Vivin\",20000)\n",
    "emp1.printInfo()\n",
    "emp2.printInfo()\n",
    "emp3.printInfo()\n",
    "print(Employee.getTotal())"
   ]
  },
  {
   "cell_type": "code",
   "execution_count": 30,
   "id": "d927176e",
   "metadata": {},
   "outputs": [
    {
     "name": "stdout",
     "output_type": "stream",
     "text": [
      "1930569958880 1930569958880 1930569958880 1930569912480\n",
      "1930569958880 1930569958880 1930569912480\n",
      "1930569958880 1930569912480\n",
      "Point <__main__.Point object at 0x000001C17EEFC5E0> destroyed\n",
      "1930569912480\n",
      "Point <__main__.Point object at 0x000001C17EEF10A0> destroyed\n"
     ]
    }
   ],
   "source": [
    "class Point:\n",
    "   def __init__( self, x=0, y=0):\n",
    "      self.x = x\n",
    "      self.y = y\n",
    "   def __del__(self):\n",
    "      c_n = self.__class__.__name__\n",
    "      print(c_n, self, \"destroyed\")\n",
    "\n",
    "pt1 = Point()\n",
    "pt2 = pt1\n",
    "pt3 = pt1\n",
    "pt4 = Point()\n",
    "print (id(pt1), id(pt2), id(pt3), id(pt4))\n",
    "del pt1\n",
    "print (id(pt2), id(pt3), id(pt4))\n",
    "del pt2\n",
    "print (id(pt3), id(pt4))\n",
    "del pt3\n",
    "print (id(pt4))\n",
    "del pt4\n"
   ]
  },
  {
   "cell_type": "code",
   "execution_count": 31,
   "id": "c5bb44aa",
   "metadata": {},
   "outputs": [
    {
     "name": "stdout",
     "output_type": "stream",
     "text": [
      "<__main__.Point object at 0x000001C17EEBD2B0>\n",
      "<__main__.Point object at 0x000001C17EEBD6A0>\n"
     ]
    }
   ],
   "source": [
    "class Point:\n",
    "   def __init__( self, x=0, y=0):\n",
    "      self.x = x\n",
    "      self.y = y\n",
    "p1 = Point(2,3)\n",
    "p2 = Point(-1,2)\n",
    "\n",
    "print(p1)\n",
    "print(p2)\n"
   ]
  },
  {
   "cell_type": "code",
   "execution_count": 32,
   "id": "47dda78f",
   "metadata": {},
   "outputs": [
    {
     "name": "stdout",
     "output_type": "stream",
     "text": [
      "(2,3)\n",
      "(-1,2)\n"
     ]
    }
   ],
   "source": [
    "class Point:\n",
    "   def __init__( self, x=0, y=0):\n",
    "      self.x = x\n",
    "      self.y = y\n",
    "   def __str__(self):\n",
    "       return f\"({self.x},{self.y})\"\n",
    "p1 = Point(2,3)\n",
    "p2 = Point(-1,2)\n",
    "\n",
    "print(p1)\n",
    "print(p2)\n"
   ]
  },
  {
   "cell_type": "code",
   "execution_count": 34,
   "id": "93cf81c6",
   "metadata": {},
   "outputs": [
    {
     "name": "stdout",
     "output_type": "stream",
     "text": [
      "(2,3)\n",
      "(-1,2)\n",
      "(1,5)\n"
     ]
    }
   ],
   "source": [
    "class Point:\n",
    "   def __init__( self, x=0, y=0):\n",
    "      self.x = x\n",
    "      self.y = y\n",
    "   def __str__(self):\n",
    "       return f\"({self.x},{self.y})\"\n",
    "   def __add__(self,other):\n",
    "       x = self.x + other.x\n",
    "       y = self.y + other.y\n",
    "       return Point(x,y)\n",
    "p1 = Point(2,3)\n",
    "p2 = Point(-1,2)\n",
    "\n",
    "print(p1)\n",
    "print(p2)\n",
    "print(p1+p2)\n"
   ]
  },
  {
   "cell_type": "code",
   "execution_count": null,
   "id": "8817282d",
   "metadata": {},
   "outputs": [],
   "source": []
  }
 ],
 "metadata": {
  "kernelspec": {
   "display_name": "Python 3 (ipykernel)",
   "language": "python",
   "name": "python3"
  },
  "language_info": {
   "codemirror_mode": {
    "name": "ipython",
    "version": 3
   },
   "file_extension": ".py",
   "mimetype": "text/x-python",
   "name": "python",
   "nbconvert_exporter": "python",
   "pygments_lexer": "ipython3",
   "version": "3.8.16"
  }
 },
 "nbformat": 4,
 "nbformat_minor": 5
}
