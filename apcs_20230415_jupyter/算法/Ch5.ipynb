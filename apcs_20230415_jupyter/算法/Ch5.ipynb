{
 "cells": [
  {
   "cell_type": "code",
   "execution_count": null,
   "id": "0f549fdb",
   "metadata": {},
   "outputs": [],
   "source": [
    "class BookStack:\n",
    "    def __init__(self, capacity):\n",
    "        self.my_stack = [None]*capacity\n",
    "        self.top = -1\n",
    "        self.capacity = capacity\n",
    "    def push(self, data):\n",
    "        if self.isFull():\n",
    "            print('書箱已滿!')\n",
    "        else:\n",
    "            self.top+=1\n",
    "            self.my_stack[self.top]=data\n",
    "    def pop(self):\n",
    "        if self.isEmpty():\n",
    "            print('書箱為空!')\n",
    "            return None\n",
    "        else:\n",
    "            data = self.my_stack[self.top]\n",
    "            self.my_stack[self.top] = None\n",
    "            self.top-=1\n",
    "            return data\n",
    "    def size(self):\n",
    "        return self.top+1\n",
    "    def isEmpty(self):\n",
    "        if(self.top==-1):\n",
    "            return True\n",
    "        else:\n",
    "            return False\n",
    "    def isFull(self):\n",
    "        if(self.top>=self.capacity-1):\n",
    "            return True\n",
    "        else:\n",
    "            return False\n",
    "    def printStack(self):\n",
    "        for b in self.my_stack:\n",
    "            print(b, end=',')\n",
    "        print()\n",
    "        \n",
    "class Book:\n",
    "    def __init__(self, title, author, price):\n",
    "        self.title = title\n",
    "        self.author = author\n",
    "        self.price = price\n",
    "    def __str__(self):\n",
    "        return \"%s(%s)\" %(self.title, self.author)\n",
    "    \n",
    "bookStack = BookStack(3)\n",
    "books = [Book('鹿鼎記','金庸',500),\n",
    "         Book('灌籃高手','井上雄彥',750),\n",
    "         Book('哈利波特','JK 羅琳',800),\n",
    "         Book('西遊記','吳承恩',450)]\n",
    "\n",
    "for b in books:\n",
    "    bookStack.push(b)\n",
    "    bookStack.printStack()\n",
    "\n",
    "for i in range(4):\n",
    "    book = bookStack.pop()\n",
    "    if book:\n",
    "        print('取出:', book)\n",
    "    bookStack.printStack()\n"
   ]
  },
  {
   "cell_type": "code",
   "execution_count": null,
   "id": "8912bac0",
   "metadata": {},
   "outputs": [],
   "source": [
    "class Customer:\n",
    "    def __init__(self, name, trxType, amount):\n",
    "        self.name = name\n",
    "        self.trxType = trxType\n",
    "        self.amount = amount\n",
    "    def __str__(self):\n",
    "        return '{0}{1}{2}元'.format(self.name,self.trxType,self.amount)\n",
    "\n",
    "class ServQueue:\n",
    "    def __init__(self, capacity):\n",
    "        self.queue = []\n",
    "        self.capacity = capacity        \n",
    "    def isEmpty(self):\n",
    "        return len(self.queue)==0\n",
    "    def isFull(self):\n",
    "        return len(self.queue)==self.capacity\n",
    "    def enqueue(self, data):\n",
    "        if(self.isFull()):\n",
    "            print(\"隊伍已滿!\")\n",
    "            return\n",
    "        self.queue.append(data)        \n",
    "        print(\"%s排入隊伍\"%data.name)\n",
    "    def dequeue(self):\n",
    "        if(self.isEmpty()):\n",
    "            print(\"隊伍為空!\")\n",
    "            return None\n",
    "        return self.queue.pop(0)    \n",
    "    def size(self):\n",
    "        return len(self.queue)\n",
    "\n",
    "servQueue = ServQueue(5)\n",
    "customers = [Customer('Sean','存款',1000),\n",
    "             Customer('David','提款',2000),\n",
    "             Customer('Amy','存款',3000),\n",
    "             Customer('Ed','存款',4000),\n",
    "             Customer('Nicole','提款',5000),\n",
    "             Customer('Douglas','存款',4000),\n",
    "             Customer('Elizabeth','提款',6000)]\n",
    "\n",
    "for cus in customers:\n",
    "    servQueue.enqueue(cus)\n",
    "\n",
    "for i in range(servQueue.size()):    \n",
    "    print(servQueue.dequeue())\n"
   ]
  },
  {
   "cell_type": "code",
   "execution_count": 1,
   "id": "da33e2fa",
   "metadata": {},
   "outputs": [
    {
     "name": "stdout",
     "output_type": "stream",
     "text": [
      "輸入數值:7\n",
      "輸入基數:2\n",
      "7以2為底的對數為:2.807354\n"
     ]
    }
   ],
   "source": [
    "'''\n",
    "十分逼近法練習：log\n",
    "'''\n",
    "#b^ans = a\n",
    "def myLog(a,b,pre=6):\n",
    "    step = 1\n",
    "    ans=step\n",
    "    while(step >= 10**-pre):\n",
    "        while (b ** ans < a):\n",
    "            ans += step\n",
    "            if(b ** ans == a):\n",
    "              return ans\n",
    "        ans -= step\n",
    "        step/=10\n",
    "    return ans\n",
    "\n",
    "a = int(input('輸入數值:'))\n",
    "b = int(input('輸入基數:'))\n",
    "print(f\"{a}以{b}為底的對數為:{myLog(a,b):.6f}\")        "
   ]
  },
  {
   "cell_type": "code",
   "execution_count": 4,
   "id": "7740a90b",
   "metadata": {},
   "outputs": [
    {
     "name": "stdout",
     "output_type": "stream",
     "text": [
      "5    7   9\n",
      "34 68 12\n",
      "\n",
      "5    9   7\n",
      "34 12 68\n",
      "\n",
      "7    5   9\n",
      "68 34 12\n",
      "\n",
      "7    9   5\n",
      "68 12 34\n",
      "\n",
      "9    5   7\n",
      "12 34 68\n",
      "\n",
      "9    7   5\n",
      "12 68 34\n",
      "\n"
     ]
    }
   ],
   "source": [
    "import itertools\n",
    "list_1to9 = [1,2,3,4,5,6,7,8,9]\n",
    "perm_list = list(itertools.permutations(list_1to9))\n",
    "for i in perm_list:\n",
    "  if (i[0]/(i[1]*10.+i[2]) + i[3]/(i[4]*10.+i[5])+i[6]/(i[7]*10.+i[8])) == 1:\n",
    "       print(f'{i[0]}    {i[3]}   {i[6]}')\n",
    "       print(f'{i[1]}{i[2]} {i[4]}{i[5]} {i[7]}{i[8]}')\n",
    "       print()\n"
   ]
  },
  {
   "cell_type": "code",
   "execution_count": 7,
   "id": "e9a2a63d",
   "metadata": {},
   "outputs": [
    {
     "name": "stdout",
     "output_type": "stream",
     "text": [
      "5    7    9\n",
      "34    68    12\n",
      "\n",
      "5    9    7\n",
      "34    12    68\n",
      "\n",
      "7    5    9\n",
      "68    34    12\n",
      "\n",
      "7    9    5\n",
      "68    12    34\n",
      "\n",
      "9    5    7\n",
      "12    34    68\n",
      "\n",
      "9    7    5\n",
      "12    68    34\n",
      "\n"
     ]
    }
   ],
   "source": [
    "list_1to9 = [1,2,3,4,5,6,7,8,9]\n",
    "count=0\n",
    "for a in list_1to9:\n",
    "    list_a= list_1to9.copy()\n",
    "    list_a.remove(a)\n",
    "    for b in list_a:\n",
    "     list_b= list_a.copy()\n",
    "     list_b.remove(b)\n",
    "     for c in list_b:\n",
    "        list_c= list_b.copy()\n",
    "        list_c.remove(c)\n",
    "        for d in list_c:\n",
    "         list_d=list_c.copy()\n",
    "         list_d.remove(d) \n",
    "         for e in list_d:\n",
    "          list_e =list_d.copy()\n",
    "          list_e.remove(e)\n",
    "          for f in list_e:\n",
    "            list_f = list_e.copy()\n",
    "            list_f.remove(f)\n",
    "            for g in list_f:\n",
    "             list_g = list_f.copy()\n",
    "             list_g.remove(g)\n",
    "             for h in list_g:\n",
    "              list_h = list_g.copy()\n",
    "              list_h.remove(h)\n",
    "              for i in list_h:\n",
    "                  count+=1                 \n",
    "                  if (a/(b*10.+c) + d/(e*10.+f)+g/(h*10.+i)) == 1:\n",
    "                      print(f'{a}    {d}    {g}')\n",
    "                      print(f'{b}{c}    {e}{f}    {h}{i}')\n",
    "                      print()\n"
   ]
  },
  {
   "cell_type": "code",
   "execution_count": 3,
   "id": "6a0c7a62",
   "metadata": {},
   "outputs": [
    {
     "name": "stdout",
     "output_type": "stream",
     "text": [
      "輸入總人數:7\n",
      "淘汰間距:3\n",
      "[1, 2, 3, 4, 5, 6, 7]\t3\n",
      "[1, 2, 4, 5, 6, 7]\t6\n",
      "[1, 2, 4, 5, 7]\t2\n",
      "[1, 4, 5, 7]\t7\n",
      "[1, 4, 5]\t5\n",
      "[1, 4]\t1\n",
      "survivor:  4\n"
     ]
    }
   ],
   "source": [
    "def josephus(ls, skip):\n",
    "    idx = skip-1\n",
    "    while len(ls) > 1:\n",
    "        print(ls,end='\\t')\n",
    "        print(ls.pop(idx))\n",
    "        idx = (idx+skip-1) % len(ls)\n",
    "    print('survivor: ', ls[0])\n",
    "\n",
    "n = int(input('輸入總人數:'))\n",
    "m = int(input('淘汰間距:'))\n",
    "list1 = [*range(1,n+1)]\n",
    "josephus(list1, m)\n"
   ]
  },
  {
   "attachments": {
    "image-2.png": {
     "image/png": "[encoded data removed]"
    }
   },
   "cell_type": "markdown",
   "id": "71851d20",
   "metadata": {},
   "source": [
    "## 作業\n",
    "![image-2.png](attachment:image-2.png)"
   ]
  },
  {
   "attachments": {
    "image.png": {
     "image/png": "[encoded data removed]"
    }
   },
   "cell_type": "markdown",
   "id": "ae82a246",
   "metadata": {},
   "source": [
    "![image.png](attachment:image.png)"
   ]
  },
  {
   "cell_type": "code",
   "execution_count": 2,
   "id": "86468500",
   "metadata": {},
   "outputs": [
    {
     "name": "stdout",
     "output_type": "stream",
     "text": [
      "24\n"
     ]
    }
   ],
   "source": [
    "def factorial_recursive(n):\n",
    "    #print_process(N, n)\n",
    "    if n==1:        \n",
    "        return 1\n",
    "    else:\n",
    "        return n * factorial_recursive(n-1)\n",
    "\n",
    "print(factorial_recursive(4))\n"
   ]
  },
  {
   "cell_type": "code",
   "execution_count": 6,
   "id": "29de9f9e",
   "metadata": {},
   "outputs": [
    {
     "name": "stdout",
     "output_type": "stream",
     "text": [
      "num1=20\n",
      "num2=14\n",
      "gcd(20,14)=gcd(14,6)=gcd(6,2)=gcd(2,0)=2\n"
     ]
    }
   ],
   "source": [
    "def gcd_recursive(m, n):\n",
    "    print('gcd(%d,%d)='%(m,n), end='')\n",
    "    if n==0:\n",
    "        return m\n",
    "    else:\n",
    "        return gcd_recursive(n, m%n)\n",
    "n1 = int(input('num1='))\n",
    "n2 = int(input('num2='))\n",
    "if(n1<n2):\n",
    "    n1,n2 = n2,n1\n",
    "gcd = gcd_recursive(n1, n2)\n",
    "print(gcd)\n"
   ]
  },
  {
   "cell_type": "code",
   "execution_count": 5,
   "id": "ff6dd119",
   "metadata": {},
   "outputs": [
    {
     "name": "stdout",
     "output_type": "stream",
     "text": [
      "遞迴:fib(6765)\n"
     ]
    }
   ],
   "source": [
    "def fibonacci_recrsive(n):\n",
    "    if n<=0:\n",
    "       return 0\n",
    "    elif n== 1 or n==2:\n",
    "        return 1\n",
    "    return fibonacci_recrsive(n-1) + fibonacci_recrsive(n-2)\n",
    "print(f\"遞迴:fib({fibonacci_recrsive(20)})\")\n"
   ]
  },
  {
   "cell_type": "code",
   "execution_count": 8,
   "id": "6c1beba8",
   "metadata": {},
   "outputs": [
    {
     "name": "stdout",
     "output_type": "stream",
     "text": [
      "[1, 2, 3, 4]\n",
      "[1, 2, 4, 3]\n",
      "[1, 3, 2, 4]\n",
      "[1, 3, 4, 2]\n",
      "[1, 4, 2, 3]\n",
      "[1, 4, 3, 2]\n",
      "[2, 1, 3, 4]\n",
      "[2, 1, 4, 3]\n",
      "[2, 3, 1, 4]\n",
      "[2, 3, 4, 1]\n",
      "[2, 4, 1, 3]\n",
      "[2, 4, 3, 1]\n",
      "[3, 1, 2, 4]\n",
      "[3, 1, 4, 2]\n",
      "[3, 2, 1, 4]\n",
      "[3, 2, 4, 1]\n",
      "[3, 4, 1, 2]\n",
      "[3, 4, 2, 1]\n",
      "[4, 1, 2, 3]\n",
      "[4, 1, 3, 2]\n",
      "[4, 2, 1, 3]\n",
      "[4, 2, 3, 1]\n",
      "[4, 3, 1, 2]\n",
      "[4, 3, 2, 1]\n"
     ]
    }
   ],
   "source": [
    "def permute(s):\n",
    "    out = []\n",
    "    if len(s) == 1:\n",
    "        return [s]\n",
    "    else:\n",
    "        for i in range(len(s)):            \n",
    "            for perm in permute(s[:i]+s[i+1:]):\n",
    "                ls = [s[i]]\n",
    "                ls.extend(perm)\n",
    "                out.append(ls)\n",
    "    return out\n",
    "myList = permute([1,2,3,4])\n",
    "for l in myList:\n",
    "    print(l)\n"
   ]
  },
  {
   "cell_type": "code",
   "execution_count": 9,
   "id": "47e04bec",
   "metadata": {},
   "outputs": [
    {
     "name": "stdout",
     "output_type": "stream",
     "text": [
      "[1, 2, 3, 4]\n",
      "[1, 2, 3, 5]\n",
      "[1, 2, 3, 6]\n",
      "[1, 2, 4, 5]\n",
      "[1, 2, 4, 6]\n",
      "[1, 2, 5, 6]\n",
      "[1, 3, 4, 5]\n",
      "[1, 3, 4, 6]\n",
      "[1, 3, 5, 6]\n",
      "[1, 4, 5, 6]\n",
      "[2, 3, 4, 5]\n",
      "[2, 3, 4, 6]\n",
      "[2, 3, 5, 6]\n",
      "[2, 4, 5, 6]\n",
      "[3, 4, 5, 6]\n"
     ]
    }
   ],
   "source": [
    "def combine(lst, n):\n",
    "    #print(f\"tag {tag} list:{lst} n:{n} for:{len(lst)-n}\")\n",
    "    out = []\n",
    "    #當 m== n 或 n =1 時返回\n",
    "    if len(lst)==n:#元素個數等於取值數量\n",
    "        return [lst]\n",
    "    elif n==1:#取值數量為1時傳回單一元素組成集合\n",
    "        return [[x] for x in lst]\n",
    "    else:        \n",
    "        for i in range(len(lst)-n):#目前list數量減去取值數量\n",
    "            for c1 in combine(lst[i+1:], n-1):#這是i索引屬值在裡面的狀況 C(n - 1, m - 1)\n",
    "                ls = [lst[i]]#i索引屬值在裡面\n",
    "                ls.extend(c1)\n",
    "                if ls not in out:#排除重複部分\n",
    "                    out.append(ls)\n",
    "               \n",
    "            for c2 in combine(lst[i+1:], n):#這是i索引屬值不在裡面的狀況 C(n - 1, m) \n",
    "                ls = []#i索引屬值不在裡面\n",
    "                ls.extend(c2)\n",
    "                if ls not in out:#排除重複部分\n",
    "                    out.append(ls)                \n",
    "    return out\n",
    "myList = combine([1,2,3,4,5,6], 4)\n",
    "for l in myList:\n",
    "    print(l)\n"
   ]
  },
  {
   "cell_type": "code",
   "execution_count": 10,
   "id": "d508c4f9",
   "metadata": {},
   "outputs": [
    {
     "name": "stdout",
     "output_type": "stream",
     "text": [
      "請輸入套環數量：3\n",
      "1套環從 A 移到 C\n",
      "2套環從 A 移到 B\n",
      "1套環從 C 移到 B\n",
      "3套環從 A 移到 C\n",
      "1套環從 B 移到 A\n",
      "2套環從 B 移到 C\n",
      "1套環從 A 移到 C\n"
     ]
    }
   ],
   "source": [
    "#p1 來源\n",
    "#p2 中繼\n",
    "#p3 目標\n",
    "def hanoi(n, p1, p2, p3):\n",
    "    if n==1: # 遞迴出口\n",
    "        print(f'{n}套環從 {p1} 移到 {p3}' )\n",
    "    else:\n",
    "        hanoi(n-1, p1, p3, p2)#來源P1 P3改為中繼 P2改為目標  來源不變\n",
    "        print(f'{n}套環從 {p1} 移到 {p3}' )\n",
    "        #print('%d套環從 %s 移到 %s' %(n, p1, p3))#n-1完成後把最大的放到目標柱\n",
    "        hanoi(n-1, p2, p1, p3)#中繼(P2)來源改為 來源改為P1中繼為 目標是P3\n",
    "\n",
    "i=int(input('請輸入套環數量：'))\n",
    "hanoi(i,'A', 'B', 'C')\n"
   ]
  },
  {
   "cell_type": "code",
   "execution_count": 11,
   "id": "a710c261",
   "metadata": {},
   "outputs": [
    {
     "name": "stdout",
     "output_type": "stream",
     "text": [
      "氣泡排序法：原始資料為：\n",
      " 16 25 39 63 27 12  8 45\n",
      "第 1 次掃描後的結果是： 16 25 39 27 12  8 45 63\n",
      "第 2 次掃描後的結果是： 16 25 27 12  8 39 45 63\n",
      "第 3 次掃描後的結果是： 16 25 12  8 27 39 45 63\n",
      "第 4 次掃描後的結果是： 16 12  8 25 27 39 45 63\n",
      "第 5 次掃描後的結果是： 12  8 16 25 27 39 45 63\n",
      "第 6 次掃描後的結果是：  8 12 16 25 27 39 45 63\n",
      "第 7 次掃描後的結果是：  8 12 16 25 27 39 45 63\n",
      "排序後結果為：\n",
      "  8 12 16 25 27 39 45 63\n"
     ]
    }
   ],
   "source": [
    "def showdata(data_list):\n",
    "    for i in range(len(data_list)):\n",
    "        print('%3d' %data_list[i],end='')\n",
    "    print()\n",
    "\n",
    "data=[16,25,39,63,27,12,8,45]\t                # 原始資料 \n",
    "print('氣泡排序法：原始資料為：')\n",
    "showdata(data)\n",
    "\n",
    "n = len(data)\n",
    "\n",
    "for i in range(1, n):                           #掃描次數\n",
    "    for j in range(n-i):\n",
    "        if data[j]>data[j+1]:                   #比較,交換的次數\n",
    "            data[j],data[j+1]=data[j+1],data[j] #比較相鄰兩數,如果第一數較大則交換\n",
    "    print('第 %d 次掃描後的結果是：' %i,end='') #把各次掃描後的結果印出\n",
    "    showdata(data)\n",
    "\t\n",
    "print('排序後結果為：')\n",
    "showdata(data)\n"
   ]
  },
  {
   "cell_type": "code",
   "execution_count": 12,
   "id": "7c817064",
   "metadata": {},
   "outputs": [
    {
     "name": "stdout",
     "output_type": "stream",
     "text": [
      "選擇排序法:原始資料為：\n",
      " 16 25 39 63 27 12  8 45\n",
      "第 1 次掃描後的結果是：  8 25 39 63 27 12 16 45\n",
      "第 2 次掃描後的結果是：  8 12 39 63 27 25 16 45\n",
      "第 3 次掃描後的結果是：  8 12 16 63 27 25 39 45\n",
      "第 4 次掃描後的結果是：  8 12 16 25 27 63 39 45\n",
      "第 5 次掃描後的結果是：  8 12 16 25 27 63 39 45\n",
      "第 6 次掃描後的結果是：  8 12 16 25 27 39 63 45\n",
      "第 7 次掃描後的結果是：  8 12 16 25 27 39 45 63\n",
      "排序後結果為：\n",
      "  8 12 16 25 27 39 45 63\n"
     ]
    }
   ],
   "source": [
    "def showdata(data_list):\n",
    "    for i in range(len(data_list)):\n",
    "        print('%3d' %data_list[i],end='')\n",
    "    print()\n",
    "\n",
    "data=[16,25,39,63,27,12,8,45]\n",
    "print('選擇排序法:原始資料為：')\n",
    "showdata(data)\n",
    "\n",
    "n = len(data)\n",
    "\n",
    "for i in range(n-1):\n",
    "    minIdx = i\n",
    "    for j in range(i+1, n):\n",
    "        if(data[j]<data[minIdx]):\n",
    "            minIdx = j\n",
    "    data[i], data[minIdx] = data[minIdx], data[i]\n",
    "    print('第 %d 次掃描後的結果是：' %(i+1), end='')\n",
    "    showdata(data)\n",
    "\t\n",
    "print('排序後結果為：')\n",
    "showdata(data)"
   ]
  },
  {
   "cell_type": "code",
   "execution_count": 13,
   "id": "1ab05dde",
   "metadata": {},
   "outputs": [
    {
     "name": "stdout",
     "output_type": "stream",
     "text": [
      "插入排序法：原始資料為：\n",
      " 16 25 39 63 27 12  8 45\n",
      "第 1 次掃描後的結果是： 16 25 39 63 27 12  8 45\n",
      "第 2 次掃描後的結果是： 16 25 39 63 27 12  8 45\n",
      "第 3 次掃描後的結果是： 16 25 39 63 27 12  8 45\n",
      "第 4 次掃描後的結果是： 16 25 27 39 63 12  8 45\n",
      "第 5 次掃描後的結果是： 12 16 25 27 39 63  8 45\n",
      "第 6 次掃描後的結果是：  8 12 16 25 27 39 63 45\n",
      "第 7 次掃描後的結果是：  8 12 16 25 27 39 45 63\n",
      "排序後結果為：\n",
      "  8 12 16 25 27 39 45 63\n"
     ]
    }
   ],
   "source": [
    "def showdata(data_list):\n",
    "    for i in range(len(data_list)):\n",
    "        print('%3d' %data_list[i],end='')\n",
    "    print()\n",
    "\n",
    "data=[16,25,39,63,27,12,8,45]\n",
    "print('插入排序法：原始資料為：')\n",
    "showdata(data)\n",
    "\n",
    "n = len(data)\n",
    "\n",
    "for i in range(1, n):\n",
    "    tmp = data[i]\n",
    "    for j in range(i):\n",
    "        if(data[j]>tmp):\n",
    "            data.insert(j,tmp)            \n",
    "            del data[i+1]\n",
    "            break\n",
    "    print('第 %d 次掃描後的結果是：' %i,end='')\n",
    "    showdata(data)\n",
    "\t\n",
    "print('排序後結果為：')\n",
    "showdata(data)"
   ]
  },
  {
   "cell_type": "code",
   "execution_count": 14,
   "id": "2baf7a15",
   "metadata": {},
   "outputs": [
    {
     "name": "stdout",
     "output_type": "stream",
     "text": [
      "資料內容：\n",
      " 1[ 50]   2[ 88]   3[ 97]   4[ 35]   5[ 93]  \n",
      " 6[ 54]   7[ 79]   8[ 52]   9[ 43]  10[ 59]  \n",
      "11[ 94]  12[ 44]  13[ 37]  14[ 65]  15[ 75]  \n",
      "16[ 95]  17[ 49]  18[ 32]  19[ 63]  20[ 70]  \n",
      "21[ 98]  22[ 82]  23[ 60]  24[ 62]  25[ 14]  \n",
      "26[ 15]  27[ 45]  28[ 77]  29[ 47]  30[ 22]  \n",
      "31[ 28]  32[ 13]  33[ 12]  34[ 16]  35[ 89]  \n",
      "36[ 64]  37[ 51]  38[ 21]  39[ 74]  40[ 56]  \n",
      "41[ 61]  42[ 99]  43[ 78]  44[ 83]  45[  6]  \n",
      "46[ 80]  47[ 40]  48[ 31]  49[ 91]  50[ 69]  \n",
      "請輸入搜尋鍵值(1-100)，輸入-1離開：91\n",
      "在第 49個位置找到鍵值[ 91]\n",
      "請輸入搜尋鍵值(1-100)，輸入-1離開：-1\n"
     ]
    }
   ],
   "source": [
    "'''\n",
    "Created on 2022年8月12日\n",
    "\n",
    "@author: xvpow\n",
    "'''\n",
    "import random\n",
    "\n",
    "def showData(data_list):\n",
    "    for i in range(len(data)//5):\n",
    "        for j in range(5):\n",
    "            print('%2d[%3d]  ' %(i*5+j+1,data[i*5+j]),end='')\n",
    "        print()\n",
    "\n",
    "val=0\n",
    "data=[]\n",
    "while(len(data)<50):\n",
    "    randNum = random.randint(1,100)\n",
    "    if(randNum not in data):\n",
    "        data.append(randNum)\n",
    "                \n",
    "print('資料內容：')\n",
    "showData(data)\n",
    "\n",
    "while True:\n",
    "    val=int(input('請輸入搜尋鍵值(1-100)，輸入-1離開：'))\n",
    "    if val == -1:\n",
    "        break\n",
    "    for i in range(50):\n",
    "        if data[i]==val:\n",
    "            print('在第%3d個位置找到鍵值[%3d]' %(i+1,data[i]))\n",
    "            break\n",
    "    else:\n",
    "        print('######[%3d]不存在######' %val)"
   ]
  },
  {
   "cell_type": "code",
   "execution_count": 15,
   "id": "ea1b7efc",
   "metadata": {},
   "outputs": [
    {
     "name": "stdout",
     "output_type": "stream",
     "text": [
      "資料內容：\n",
      " 1[  2]   2[  3]   3[  4]   4[  5]   5[ 10]  \n",
      " 6[ 14]   7[ 15]   8[ 16]   9[ 19]  10[ 21]  \n",
      "11[ 22]  12[ 23]  13[ 25]  14[ 28]  15[ 29]  \n",
      "16[ 30]  17[ 31]  18[ 35]  19[ 36]  20[ 37]  \n",
      "21[ 38]  22[ 39]  23[ 42]  24[ 43]  25[ 46]  \n",
      "26[ 47]  27[ 49]  28[ 50]  29[ 52]  30[ 53]  \n",
      "31[ 54]  32[ 57]  33[ 58]  34[ 59]  35[ 60]  \n",
      "36[ 62]  37[ 65]  38[ 66]  39[ 67]  40[ 71]  \n",
      "41[ 73]  42[ 75]  43[ 78]  44[ 79]  45[ 82]  \n",
      "46[ 83]  47[ 87]  48[ 89]  49[ 95]  50[ 97]  \n",
      "請輸入搜尋鍵值(1-100)，輸入-1結束：75\n",
      "75 介於中間值 25[ 46]及最大值 50[ 97]，找右半邊\n",
      "75 介於中間值 38[ 66]及最大值 50[ 97]，找右半邊\n",
      "75 介於最小值 39[ 67]及中間值 44[ 79]，找左半邊\n",
      "75 介於中間值 41[ 73]及最大值 43[ 78]，找右半邊\n",
      "在第42個位置找到[ 75]\n",
      "請輸入搜尋鍵值(1-100)，輸入-1結束：-1\n"
     ]
    }
   ],
   "source": [
    "import random\n",
    "\n",
    "def showData(data_list):\n",
    "    for i in range(len(data)//5):\n",
    "        for j in range(5):\n",
    "            print('%2d[%3d]  ' %(i*5+j+1,data[i*5+j]),end='')\n",
    "        print()\n",
    "\n",
    "def bin_search(data, val):\n",
    "    low, high = 0, len(data)-1\n",
    "    mid = -1\n",
    "    while not low>high:\n",
    "        mid=(low+high)//2\n",
    "        if val<data[mid]:\n",
    "            print('%d 介於最小值 %2d[%3d]及中間值 %2d[%3d]，找左半邊' \\\n",
    "                   %(val,low+1,data[low],mid+1,data[mid]))\n",
    "            high=mid-1\n",
    "        elif val>data[mid]:\n",
    "            print('%d 介於中間值 %2d[%3d]及最大值 %2d[%3d]，找右半邊' \\\n",
    "                  %(val,mid+1,data[mid],high+1,data[high]))\n",
    "            low=mid+1\n",
    "        else:\n",
    "            return mid\n",
    "    return -1\n",
    "\n",
    "data=[]\n",
    "while(len(data)<50):\n",
    "    randNum = random.randint(1,100)\n",
    "    if(randNum not in data):\n",
    "        data.append(randNum)\n",
    "\n",
    "data.sort()\n",
    "print('資料內容：')\n",
    "showData(data)\n",
    "\n",
    "while True:\n",
    "    val=int(input('請輸入搜尋鍵值(1-100)，輸入-1結束：'))\n",
    "    if val ==-1:\n",
    "        break\n",
    "    pos=bin_search(data,val)\n",
    "    if pos==-1:\n",
    "        print('##### [%3d]不存在 #####' %val)\n",
    "    else:\n",
    "        print('在第%2d個位置找到[%3d]' %(pos+1,data[pos]))\n"
   ]
  },
  {
   "cell_type": "code",
   "execution_count": 16,
   "id": "300be1f2",
   "metadata": {},
   "outputs": [
    {
     "name": "stdout",
     "output_type": "stream",
     "text": [
      "btree[1] = A(B,C)\n",
      "btree[2] = B(-,D)\n",
      "btree[3] = C(-,E)\n",
      "btree[4] = -\n",
      "btree[5] = D\n",
      "btree[6] = -\n",
      "btree[7] = E\n"
     ]
    }
   ],
   "source": [
    "btree = ['-']*2**3\n",
    "btree[1]='A'\n",
    "btree[2]='B'\n",
    "btree[3]='C'\n",
    "btree[5]='D'\n",
    "btree[7]='E'\n",
    "\n",
    "\n",
    "for i in range(1, len(btree)):\n",
    "    print(\"btree[%s] = %s\" %(i, btree[i]), end='')\n",
    "    if 2*i+1<len(btree):\n",
    "        print('(%s,%s)' %(btree[2*i], btree[2*i+1]))\n",
    "    else:\n",
    "        print()\n"
   ]
  },
  {
   "cell_type": "code",
   "execution_count": null,
   "id": "b46ff1e7",
   "metadata": {},
   "outputs": [],
   "source": []
  }
 ],
 "metadata": {
  "kernelspec": {
   "display_name": "Python 3 (ipykernel)",
   "language": "python",
   "name": "python3"
  },
  "language_info": {
   "codemirror_mode": {
    "name": "ipython",
    "version": 3
   },
   "file_extension": ".py",
   "mimetype": "text/x-python",
   "name": "python",
   "nbconvert_exporter": "python",
   "pygments_lexer": "ipython3",
   "version": "3.8.16"
  }
 },
 "nbformat": 4,
 "nbformat_minor": 5
}
